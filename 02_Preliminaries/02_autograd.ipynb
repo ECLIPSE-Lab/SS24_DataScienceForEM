{
  "cells": [
    {
      "cell_type": "raw",
      "metadata": {},
      "source": [
        "---\n",
        "format: \n",
        "  revealjs:\n",
        "    theme: \"night\" #[\"theme/q-theme.scss\"]\n",
        "    slide-number: c/t\n",
        "    logo: \"eclipse_logo_small.png\"\n",
        "    footer: \"[SS24 DataScience in EM](https://github.com/ECLIPSE-Lab/SS24_DataScienceForEM)\"\n",
        "    code-copy: true\n",
        "    center-title-slide: false\n",
        "    include-in-header: ../heading-meta.html\n",
        "    code-link: true\n",
        "    code-overflow: wrap\n",
        "    highlight-style: a11y\n",
        "    height: 1080\n",
        "    width: 1920\n",
        "    # incremental: true\n",
        "    # transition: zoom\n",
        "    # output-file: 02_autograd.ipynb\n",
        "execute: \n",
        "  eval: true\n",
        "  echo: true\n",
        "---"
      ]
    },
    {
      "cell_type": "markdown",
      "metadata": {},
      "source": [
        "## Autograd\n",
        "\n",
        "<hr>\n",
        "<h2> Data Science in Electron Microscopy </h2>\n",
        "\n",
        "<hr>\n",
        "<hr>\n",
        "<h3> Philipp Pelz </h3>\n",
        "\n",
        "<h3> 2024 </h3>\n",
        "<br>\n",
        "\n",
        "<h3>  &nbsp; [https://github.com/ECLIPSE-Lab/SS24_DataScienceForEM](https://github.com/ECLIPSE-Lab/SS24_DataScienceForEM)\n",
        "</h3>\n",
        "\n",
        "## Automatic Differentiation\n",
        "\n",
        "- Recall from :numref:`sec_calculus` \n",
        "that calculating derivatives is the crucial step\n",
        "in all of the optimization algorithms\n",
        "that we will use to train deep networks.\n",
        "While the calculations are straightforward,\n",
        "working them out by hand can be tedious and error-prone, \n",
        "and this problem only grows\n",
        "as our models become more complex.\n",
        "\n",
        "- Fortunately all modern deep learning frameworks\n",
        "take this work off of our plates\n",
        "by offering *automatic differentiation*\n",
        "(often shortened to *autograd*). \n",
        "- framework builds a *computational graph* \n",
        "that tracks how each value depends on others\n",
        "- To calculate derivatives, \n",
        "automatic differentiation \n",
        "works backwards through this graph\n",
        "applying the chain rule. \n",
        "- The computational algorithm for applying the chain rule\n",
        "in this fashion is called *backpropagation*.\n",
        "\n",
        "- Before exploring methods, \n",
        "let's first master the autograd package.\n"
      ]
    },
    {
      "cell_type": "code",
      "metadata": {},
      "source": [
        "import torch"
      ],
      "execution_count": null,
      "outputs": []
    },
    {
      "cell_type": "markdown",
      "metadata": {},
      "source": [
        "## A Simple Function\n",
        "\n",
        "Let's assume that we are interested\n",
        "in (**differentiating the function\n",
        "$y = 2\\mathbf{x}^{\\top}\\mathbf{x}$\n",
        "with respect to the column vector $\\mathbf{x}$.**)\n",
        "To start, we assign `x` an initial value."
      ]
    },
    {
      "cell_type": "code",
      "metadata": {},
      "source": [
        "x = torch.arange(4.0)\n",
        "x"
      ],
      "execution_count": null,
      "outputs": []
    },
    {
      "cell_type": "markdown",
      "metadata": {},
      "source": [
        "- Before we calculate the gradient\n",
        "of $y$ with respect to $\\mathbf{x}$,\n",
        "we need a place to store it.\n",
        "- In general avoid allocating new memory\n",
        "every time we take a derivative \n",
        "because deep learning requires \n",
        "successively computing derivatives\n",
        "with respect to the same parameters\n",
        "thousands or millions of times,\n",
        "and we might risk running out of memory.\n",
        "- gradient of a scalar-valued function\n",
        "with respect to a vector $\\mathbf{x}$\n",
        "is vector-valued and has \n",
        "the same shape as $\\mathbf{x}$.\n"
      ]
    },
    {
      "cell_type": "markdown",
      "metadata": {},
      "source": [
        "---\n"
      ]
    },
    {
      "cell_type": "code",
      "metadata": {},
      "source": [
        "# Can also create x = torch.arange(4.0, requires_grad=True)\n",
        "x.requires_grad_(True)\n",
        "x.grad  # The gradient is None by default"
      ],
      "execution_count": null,
      "outputs": []
    },
    {
      "cell_type": "markdown",
      "metadata": {},
      "source": [
        "- **We now calculate our function of `x` and assign the result to `y`.**"
      ]
    },
    {
      "cell_type": "code",
      "metadata": {},
      "source": [
        "y = 2 * torch.dot(x, x)\n",
        "y"
      ],
      "execution_count": null,
      "outputs": []
    },
    {
      "cell_type": "markdown",
      "metadata": {},
      "source": [
        "- **We can now take the gradient of `y`\n",
        "with respect to `x`** by calling \n",
        "its `backward` method.\n",
        "Next, we can access the gradient \n",
        "via `x`'s `grad` attribute.\n"
      ]
    },
    {
      "cell_type": "code",
      "metadata": {},
      "source": [
        "y.backward()\n",
        "x.grad"
      ],
      "execution_count": null,
      "outputs": []
    },
    {
      "cell_type": "markdown",
      "metadata": {},
      "source": [
        "-**We already know that the gradient of the function $y = 2\\mathbf{x}^{\\top}\\mathbf{x}$\n",
        "with respect to $\\mathbf{x}$ should be $4\\mathbf{x}$.**\n",
        "- We can now verify that the automatic gradient computation\n",
        "and the expected result are identical.\n"
      ]
    },
    {
      "cell_type": "code",
      "metadata": {},
      "source": [
        "x.grad == 4 * x"
      ],
      "execution_count": null,
      "outputs": []
    },
    {
      "cell_type": "raw",
      "metadata": {},
      "source": [
        "---"
      ]
    },
    {
      "cell_type": "markdown",
      "metadata": {},
      "source": [
        "- **Now let's calculate \n",
        "another function of `x`\n",
        "and take its gradient.**\n",
        "\n",
        "- Note that PyTorch does not automatically \n",
        "reset the gradient buffer \n",
        "when we record a new gradient. \n",
        "Instead, the new gradient\n",
        "is added to the already-stored gradient.\n",
        "This behavior comes in handy\n",
        "when we want to optimize the sum \n",
        "of multiple objective functions.\n",
        "To reset the gradient buffer,\n",
        "we can call `x.grad.zero_()` as follows:\n"
      ]
    },
    {
      "cell_type": "code",
      "metadata": {},
      "source": [
        "x.grad.zero_()  # Reset the gradient\n",
        "y = x.sum()\n",
        "y.backward()\n",
        "x.grad"
      ],
      "execution_count": null,
      "outputs": []
    },
    {
      "cell_type": "markdown",
      "metadata": {},
      "source": [
        "## Backward for Non-Scalar Variables\n",
        "\n",
        "- When `y` is a vector, \n",
        "the most natural interpretation \n",
        "of the derivative of  `y`\n",
        "with respect to a vector `x` \n",
        "is a matrix called the *Jacobian*\n",
        "that contains the partial derivatives\n",
        "of each component of `y` \n",
        "with respect to each component of `x`.\n",
        "- Likewise, for higher-order `y` and `x`,\n",
        "the differentiation result could be an even higher-order tensor.\n",
        "\n",
        "- While Jacobians do show up in some\n",
        "advanced machine learning techniques,\n",
        "more commonly we want to sum up \n",
        "the gradients of each component of `y`\n",
        "with respect to the full vector `x`,\n",
        "yielding a vector of the same shape as `x`.\n",
        "- we often have a vector \n",
        "representing the value of our loss function\n",
        "calculated separately for each example among\n",
        "a *batch* of training examples.\n",
        "- Here, we just want to (**sum up the gradients\n",
        "computed individually for each example**)."
      ]
    },
    {
      "cell_type": "markdown",
      "metadata": {},
      "source": [
        "--- \n",
        "\n",
        "- deep learning frameworks vary \n",
        "in how they interpret gradients of\n",
        "non-scalar tensors,\n",
        "PyTorch takes some steps to avoid confusion.\n",
        "- Invoking `backward` on a non-scalar elicits an error \n",
        "unless we tell PyTorch how to reduce the object to a scalar. \n",
        "- More formally, we need to provide some vector $\\mathbf{v}$ \n",
        "such that `backward` will compute \n",
        "$\\mathbf{v}^\\top \\partial_{\\mathbf{x}} \\mathbf{y}$ \n",
        "rather than $\\partial_{\\mathbf{x}} \\mathbf{y}$. \n",
        "- This next part may be confusing,\n",
        "but for reasons that will become clear later, \n",
        "this argument (representing $\\mathbf{v}$) is named `gradient`. \n",
        "For a more detailed description, see Yang Zhang's \n",
        "[Medium post](https://zhang-yang.medium.com/the-gradient-argument-in-pytorchs-backward-function-explained-by-examples-68f266950c29). "
      ]
    },
    {
      "cell_type": "code",
      "metadata": {},
      "source": [
        "x.grad.zero_()\n",
        "y = x * x\n",
        "y.backward(gradient=torch.ones(len(y)))  # Faster: y.sum().backward()\n",
        "x.grad"
      ],
      "execution_count": null,
      "outputs": []
    },
    {
      "cell_type": "markdown",
      "metadata": {},
      "source": [
        "## Detaching Computation\n",
        "\n",
        "- Sometimes wish to [**move some calculations\n",
        "outside of the recorded computational graph.**]\n",
        "\n",
        "- For example, say that we use the input \n",
        "to create some auxiliary intermediate terms \n",
        "for which we do not want to compute a gradient. \n",
        "\n",
        "- In this case, we need to *detach* \n",
        "the respective computational graph\n",
        "from the final result. \n",
        "\n",
        "- The following toy example makes this clearer: \n",
        "suppose we have `z = x * y` and `y = x * x` \n",
        "but we want to focus on the *direct* influence of `x` on `z` \n",
        "rather than the influence conveyed via `y`. \n",
        "- In this case, we can create a new variable `u`\n",
        "that takes the same value as `y` \n",
        "but whose *provenance* (how it was created)\n",
        "has been wiped out.\n",
        "- Thus `u` has no ancestors in the graph\n",
        "and gradients do not flow through `u` to `x`.\n",
        "For example, taking the gradient of `z = x * u`\n",
        "will yield the result `u`,\n",
        "(not `3 * x * x` as you might have \n",
        "expected since `z = x * x * x`).\n"
      ]
    },
    {
      "cell_type": "code",
      "metadata": {},
      "source": [
        "x.grad.zero_()\n",
        "y = x * x\n",
        "u = y.detach()\n",
        "z = u * x\n",
        "\n",
        "z.sum().backward()\n",
        "x.grad == u"
      ],
      "execution_count": null,
      "outputs": []
    },
    {
      "cell_type": "raw",
      "metadata": {},
      "source": [
        "--- "
      ]
    },
    {
      "cell_type": "markdown",
      "metadata": {},
      "source": [
        "- Note that while this procedure\n",
        "detaches `y`'s ancestors\n",
        "from the graph leading to `z`, \n",
        "the computational graph leading to `y` \n",
        "persists and thus we can calculate\n",
        "the gradient of `y` with respect to `x`."
      ]
    },
    {
      "cell_type": "code",
      "metadata": {},
      "source": [
        "x.grad.zero_()\n",
        "y.sum().backward()\n",
        "x.grad == 2 * x"
      ],
      "execution_count": null,
      "outputs": []
    },
    {
      "cell_type": "markdown",
      "metadata": {},
      "source": [
        "## Gradients and Python Control Flow\n",
        "\n",
        "- So far we reviewed cases where the path from input to output \n",
        "was well-defined via a function such as `z = x * x * x`.\n",
        "- Programming offers us a lot more freedom in how we compute results. \n",
        "- For instance, we can make them depend on auxiliary variables \n",
        "or condition choices on intermediate results. \n",
        "- One benefit of using automatic differentiation\n",
        "is that [**even if**] building the computational graph of \n",
        "(**a function required passing through a maze of Python control flow**)\n",
        "(e.g., conditionals, loops, and arbitrary function calls),\n",
        "(**we can still calculate the gradient of the resulting variable.**)\n",
        "- To illustrate this, consider the following code snippet where \n",
        "the number of iterations of the `while` loop\n",
        "and the evaluation of the `if` statement\n",
        "both depend on the value of the input `a`.\n"
      ]
    },
    {
      "cell_type": "code",
      "metadata": {},
      "source": [
        "def f(a):\n",
        "    b = a * 2\n",
        "    while b.norm() < 1000:\n",
        "        b = b * 2\n",
        "    if b.sum() > 0:\n",
        "        c = b\n",
        "    else:\n",
        "        c = 100 * b\n",
        "    return c"
      ],
      "execution_count": null,
      "outputs": []
    },
    {
      "cell_type": "markdown",
      "metadata": {},
      "source": [
        "---\n",
        "\n",
        "- Below, we call this function, passing in a random value as input.\n",
        "Since the input is a random variable, \n",
        "we do not know what form \n",
        "the computational graph will take.\n",
        "However, whenever we execute `f(a)` \n",
        "on a specific input, we realize \n",
        "a specific computational graph\n",
        "and can subsequently run `backward`."
      ]
    },
    {
      "cell_type": "code",
      "metadata": {},
      "source": [
        "a = torch.randn(size=(), requires_grad=True)\n",
        "d = f(a)\n",
        "d.backward()"
      ],
      "execution_count": null,
      "outputs": []
    },
    {
      "cell_type": "markdown",
      "metadata": {},
      "source": [
        "-  Even though our function `f` is a bit \n",
        "contrived for demonstration purposes,\n",
        "its dependence on the input is quite simple: \n",
        "it is a *linear* function of `a` \n",
        "with piecewise defined scale. \n",
        "- As such, `f(a) / a` is a vector of constant entries \n",
        "and, moreover, `f(a) / a` needs to match \n",
        "the gradient of `f(a)` with respect to `a`."
      ]
    },
    {
      "cell_type": "code",
      "metadata": {},
      "source": [
        "a.grad == d / a"
      ],
      "execution_count": null,
      "outputs": []
    },
    {
      "cell_type": "raw",
      "metadata": {},
      "source": [
        "-  Dynamic control flow is very common in deep learning. \n",
        "- For instance, when processing text, the computational graph\n",
        "depends on the length of the input. \n",
        "- In these cases, automatic differentiation \n",
        "becomes vital for statistical modeling \n",
        "since it is impossible to compute the gradient a priori. \n",
        "\n",
        "## Discussion\n",
        "\n",
        "- The development of libraries for calculating derivatives\n",
        "both automatically and efficiently \n",
        "has been a massive productivity booster\n",
        "for deep learning practitioners,\n",
        "liberating them to focus on loftier concerns.\n",
        "-  autograd permits us to design massive models\n",
        "for which pen and paper gradient computations \n",
        "would be prohibitively time consuming.\n",
        "-  Interestingly, while we use autograd to *optimize* models\n",
        "(in a statistical sense)\n",
        "the *optimization* of autograd libraries themselves\n",
        "(in a computational sense)\n",
        "is a rich subject\n",
        "of vital interest to framework designers.\n",
        "-  Here, tools from compilers and graph manipulation \n",
        "are leveraged to compute results \n",
        "in the most expedient and memory-efficient manner. \n",
        "\n",
        "---"
      ]
    },
    {
      "cell_type": "markdown",
      "metadata": {},
      "source": [
        "For now, try to remember these basics: \n",
        "\n",
        "1. attach gradients to those variables with respect to which we desire derivatives; \n",
        "\n",
        "2. record the computation of the target value; \n",
        "\n",
        "3. execute the backpropagation function; and  \n",
        "\n",
        "4. access the resulting gradient.\n",
        "\n",
        "\n",
        "## Exercises\n",
        "\n",
        "1. Why is the second derivative much more expensive to compute than the first derivative?\n",
        "2. After running the function for backpropagation, immediately run it again and see what happens. Why?\n",
        "3. In the control flow example where we calculate the derivative of `d` with respect to `a`, what would happen if we changed the variable `a` to a random vector or a matrix? At this point, the result of the calculation `f(a)` is no longer a scalar. What happens to the result? How do we analyze this?\n",
        "4. Let $f(x) = \\sin(x)$. Plot the graph of $f$ and of its derivative $f'$. Do not exploit the fact that $f'(x) = \\cos(x)$ but rather use automatic differentiation to get the result. "
      ]
    },
    {
      "cell_type": "markdown",
      "metadata": {},
      "source": [
        "---\n",
        "\n",
        "\n",
        "5. Let $f(x) = ((\\log x^2) \\cdot \\sin x) + x^{-1}$. Write out a dependency graph tracing results from $x$ to $f(x)$. \n",
        "6. Use the chain rule to compute the derivative $\\frac{df}{dx}$ of the aforementioned function, placing each term on the dependency graph that you constructed previously. \n",
        "7. Given the graph and the intermediate derivative results, you have a number of options when computing the gradient. Evaluate the result once starting from $x$ to $f$ and once from $f$ tracing back to $x$. The path from $x$ to $f$ is commonly known as *forward differentiation*, whereas the path from $f$ to $x$ is known as backward differentiation. \n",
        "8. When might you want to use forward differentiation and when backward differentiation? Hint: consider the amount of intermediate data needed, the ability to parallelize steps, and the size of matrices and vectors involved. \n"
      ]
    }
  ],
  "metadata": {
    "kernelspec": {
      "name": "python3",
      "language": "python",
      "display_name": "Python 3 (ipykernel)"
    }
  },
  "nbformat": 4,
  "nbformat_minor": 4
}