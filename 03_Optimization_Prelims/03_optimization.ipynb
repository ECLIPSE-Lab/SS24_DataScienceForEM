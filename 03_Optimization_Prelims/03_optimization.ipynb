{
  "cells": [
    {
      "cell_type": "raw",
      "metadata": {},
      "source": [
        "---\n",
        "format: \n",
        "  revealjs:\n",
        "    theme: \"night\" #[\"theme/q-theme.scss\"]\n",
        "    slide-number: c/t\n",
        "    logo: \"eclipse_logo_small.png\"\n",
        "    footer: \"[SS24_DataScienceForEM](https://github.com/ECLIPSE-Lab/SS24_DataScienceForEM)\"\n",
        "    code-copy: true\n",
        "    center-title-slide: false\n",
        "    include-in-header: ../heading-meta.html\n",
        "    code-link: true\n",
        "    code-overflow: wrap\n",
        "    highlight-style: a11y\n",
        "    height: 1080\n",
        "    width: 1920\n",
        "    # output-file: 02_preliminaries.html\n",
        "execute: \n",
        "  eval: true\n",
        "  echo: true\n",
        "---"
      ]
    },
    {
      "cell_type": "markdown",
      "metadata": {},
      "source": [
        "## Optimization & Linear Neural Networks\n",
        "<br>\n",
        "<h2> Data Science in Electron Microscopy </h2>\n",
        "\n",
        "<hr>\n",
        "\n",
        "<h3> Philipp Pelz </h3>\n",
        "\n",
        "<h3> 2024 </h3>\n",
        "<br>\n",
        "\n",
        "<h3>  &nbsp; [https://github.com/ECLIPSE-Lab/SS24_DataScienceForEM](https://github.com/ECLIPSE-Lab/SS24_DataScienceForEM)\n",
        "</h3>\n",
        "\n",
        "## Optimization and Deep Learning\n",
        "\n",
        "- for optimization problem, we will usually define a *loss function* first. Once we have the loss function, we can use an optimization algorithm in attempt to minimize the loss.\n",
        "- a loss function is often referred to as the *objective function* of the optimization problem. - By tradition and convention most optimization algorithms are concerned with *minimization*. - - If we ever need to maximize an objective there is a simple solution: just flip the sign on the objective.\n",
        "\n",
        "\n",
        "## Linear Regression\n",
        "\n",
        "- *Regression* problems pop up whenever we want to predict a numerical value.\n",
        "- Common examples: predicting prices (of homes, stocks, etc.), predicting the length of stay (for patients in the hospital), forecasting demand (for retail sales)\n",
        "- Not every prediction problem is one of classical regression. Later on, we will introduce classification problems, where the goal is to predict membership among a set of categories.\n",
        "\n",
        "- example: suppose that we wish to estimate the prices of houses (in dollars) based on their area (in square feet) and age (in years).\n",
        "- to develop model for predicting house prices, need to get our hands on data, including the sales price, area, and age for each home. "
      ]
    },
    {
      "cell_type": "markdown",
      "metadata": {},
      "source": [
        "---\n",
        "\n",
        "\n",
        "- In the terminology of machine learning, the dataset is called a *training dataset* or *training set*, and each row (containing the data corresponding to one sale) is called an *example* (or *data point*, *instance*, *sample*).\n",
        "- The thing we are trying to predict (price) is called a *label* (or *target*). The variables (age and area) upon which the predictions are based are called *features* (or *covariates*)."
      ]
    },
    {
      "cell_type": "code",
      "metadata": {},
      "source": [
        "import math\n",
        "import torch\n",
        "import numpy as np\n",
        "import time"
      ],
      "execution_count": null,
      "outputs": []
    },
    {
      "cell_type": "raw",
      "metadata": {},
      "source": [
        "## Basics\n",
        "\n",
        "- *Linear regression* is both the simplest and most popular among the standard tools for tackling regression problems.\n",
        "- First, assume that relationship between features $\\mathbf{x}$ and target $y$ is approximately linear, i.e., that the conditional mean $E[Y \\mid X=\\mathbf{x}]$ can be expressed as a weighted sum of the features $\\mathbf{x}$.\n",
        "- allows that the target value may still deviate from its expected value on account of observation noise.\n",
        "- Next, impose assumption that any such noise is well behaved, following a Gaussian distribution. \n",
        "- we will use $n$ to denote the number of examples in our dataset. We use superscripts to enumerate samples and targets, and subscripts to index coordinates.\n",
        "- More concretely, $\\mathbf{x}^{(i)}$ denotes the $i^{\\textrm{th}}$ sample and $x_j^{(i)}$ denotes its $j^{\\textrm{th}}$ coordinate.\n",
        "\n",
        "\n",
        "## Model\n",
        "\n",
        "- At the heart of every solution is a model that describes how features can be transformed into an estimate of the target.\n",
        "- The assumption of linearity means that the expected value of the target (price) can be  expressed as a weighted sum of the features (area and age):\n",
        "\n",
        "$$\\textrm{price} = w_{\\textrm{area}} \\cdot \\textrm{area} + w_{\\textrm{age}} \\cdot \\textrm{age} + b.$$\n",
        ":eqlabel:`eq_price-area`\n",
        "\n",
        "- Here $w_{\\textrm{area}}$ and $w_{\\textrm{age}}$ are called *weights*, and $b$ is called a *bias* (or *offset* or *intercept*). \n",
        "- The weights determine the influence of each feature on our prediction. The bias determines the value of the estimate when all features are zero. \n",
        "- Even though we will never see any newly-built homes with precisely zero area, we still need the bias because it allows us to express all linear functions of our features (rather than restricting us to lines that pass through the origin).\n",
        "\n",
        "---"
      ]
    },
    {
      "cell_type": "markdown",
      "metadata": {},
      "source": [
        "- Strictly speaking, :eqref:`eq_price-area` is an *affine transformation* of input features, which is characterized by a *linear transformation* of features via a weighted sum, combined with a *translation* via the added bias.\n",
        "- Given a dataset, our goal is to choose the weights $\\mathbf{w}$ and the bias $b$ that, on average, make our model's predictions fit the true prices observed in the data as closely as possible."
      ]
    },
    {
      "cell_type": "raw",
      "metadata": {},
      "source": [
        "---\n",
        "\n",
        "- In disciplines where it is common to focus on datasets with just a few features, explicitly expressing models long-form, as in :eqref:`eq_price-area`, is common.\n",
        "- In machine learning, we usually work with high-dimensional datasets,where it is more convenient to employ compact linear algebra notation. \n",
        "- When inputs consist of $d$ features, we can assign each an index (between $1$ and $d$) and express our prediction $\\hat{y}$ (in general the \"hat\" symbol denotes an estimate) as\n",
        "\n",
        "$$\\hat{y} = w_1  x_1 + \\cdots + w_d  x_d + b.$$\n",
        "\n",
        "---"
      ]
    },
    {
      "cell_type": "markdown",
      "metadata": {},
      "source": [
        "- Collecting all features into a vector $\\mathbf{x} \\in \\mathbb{R}^d$ and all weights into a vector $\\mathbf{w} \\in \\mathbb{R}^d$, we can express our model compactly via the dot product between $\\mathbf{w}$ and $\\mathbf{x}$:\n",
        "\n",
        "$$\\hat{y} = \\mathbf{w}^\\top \\mathbf{x} + b.$$\n",
        ":eqlabel:`eq_linreg-y`\n",
        "\n",
        "- In :eqref:`eq_linreg-y`, the vector $\\mathbf{x}$ corresponds to the features of a single example. \n",
        "- We will often find it convenient to refer to features of our entire dataset of $n$ examples via the *design matrix* $\\mathbf{X} \\in \\mathbb{R}^{n \\times d}$. \n",
        "- Here, $\\mathbf{X}$ contains one row for every example and one column for every feature.\n",
        "- For a collection of features $\\mathbf{X}$, the predictions $\\hat{\\mathbf{y}} \\in \\mathbb{R}^n$ can be expressed via the matrix--vector product:\n",
        "\n",
        "$${\\hat{\\mathbf{y}}} = \\mathbf{X} \\mathbf{w} + b,$$\n",
        ":eqlabel:`eq_linreg-y-vec`\n",
        "- where broadcasting is applied during the summation."
      ]
    },
    {
      "cell_type": "raw",
      "metadata": {},
      "source": [
        "---\n",
        "\n",
        "\n",
        "- Given features of a training dataset $\\mathbf{X}$ and corresponding (known) labels $\\mathbf{y}$\n",
        "- the goal of linear regression is to find the weight vector $\\mathbf{w}$ and the bias term $b$ such that\n",
        "-  given features of a new data example sampled from the same distribution as $\\mathbf{X}$, the new example's label will (in expectation) be predicted with the smallest error.\n",
        "\n",
        "- Even if we believe that the best model for predicting $y$ given $\\mathbf{x}$ is linear, we would not expect to find a real-world dataset of $n$ examples where $y^{(i)}$ exactly equals  \\mathbf{w}^\\top \\mathbf{x}^{(i)}+b$ for all $1 \\leq i \\leq n$. \n",
        "- For example, whatever instruments we use to observe the features $\\mathbf{X}$ and labels  $\\mathbf{y}$, there might be a small amount of measurement error. \n",
        "- --> even when we are confident that the underlying relationship is linear, we will incorporate a noise term to account for such errors.\n",
        "\n",
        "--- "
      ]
    },
    {
      "cell_type": "markdown",
      "metadata": {},
      "source": [
        "- Before we can go about searching for the best *parameters* (or *model parameters*) $\\mathbf{w}$ and $b$, we will need two more things:\n",
        "- (i) a measure of the quality of some given model;\n",
        "- and (ii) a procedure for updating the model to improve its quality.\n",
        "\n",
        "## Loss Function\n",
        "\n",
        "- fitting our model to the data requires that we agree on some measure of *fitness* (or, equivalently, of *unfitness*). \n",
        "- *Loss functions* quantify the distance between the *real* and *predicted* values of the target.\n",
        "- The loss will usually be a nonnegative number where smaller values are better and perfect predictions incur a loss of 0.\n",
        "- For regression problems, the most common loss function is the squared error. When our prediction for an example $i$ is $\\hat{y}^{(i)}$ and the corresponding true label is $y^{(i)}$, the *squared error* is given by:\n",
        "\n",
        "$$l^{(i)}(\\mathbf{w}, b) = \\frac{1}{2} \\left(\\hat{y}^{(i)} - y^{(i)}\\right)^2.$$\n",
        ":eqlabel:`eq_mse`\n",
        "\n",
        "- constant $\\frac{1}{2}$ makes no real difference but proves to be notationally convenient, since it cancels out when we take the derivative of the loss."
      ]
    },
    {
      "cell_type": "raw",
      "metadata": {},
      "source": [
        "---\n",
        "\n",
        "- training dataset is given to us, and thus is out of our control, the empirical error is only a function of the model parameters. In :numref:`fig_fit_linreg`, we visualize the fit of a linear regression model in a problem with one-dimensional inputs.\n",
        "\n",
        "![Fitting a linear regression model to one-dimensional data.](../img/fit-linreg.svg)\n",
        ":label:`fig_fit_linreg`\n",
        "\n",
        "- Note that large differences between estimates $\\hat{y}^{(i)}$ and targets $y^{(i)}$ lead to even larger contributions to the loss, due to its quadratic form (this quadraticity can be a double-edge sword; while it encourages the model to avoid large errors it can also lead to excessive sensitivity to anomalous data). \n",
        "\n",
        "---"
      ]
    },
    {
      "cell_type": "markdown",
      "metadata": {},
      "source": [
        "- To measure the quality of a model on the entire dataset of $n$ examples, we simply average (or equivalently, sum) the losses on the training set:\n",
        "\n",
        "$$L(\\mathbf{w}, b) =\\frac{1}{n}\\sum_{i=1}^n l^{(i)}(\\mathbf{w}, b) =\\frac{1}{n} \\sum_{i=1}^n \\frac{1}{2}\\left(\\mathbf{w}^\\top \\mathbf{x}^{(i)} + b - y^{(i)}\\right)^2.$$\n",
        "\n",
        "- When training the model, we seek parameters ($\\mathbf{w}^*, b^*$) that minimize the total loss across all training examples:\n",
        "\n",
        "$$\\mathbf{w}^*, b^* = \\operatorname*{argmin}_{\\mathbf{w}, b}\\  L(\\mathbf{w}, b).$$\n",
        "\n",
        "## Analytic Solution\n",
        "\n",
        "- Unlike most of the models that we will cover, linear regression presents us with a surprisingly easy optimization problem.\n",
        "- we can find the optimal parameters (as assessed on the training data) analytically by applying a simple formula as follows.\n",
        "- subsume the bias $b$ into the parameter $\\mathbf{w}$ by appending a column to the design matrix consisting of all 1s.\n",
        "- Then our prediction problem is to minimize $\\|\\mathbf{y} - \\mathbf{X}\\mathbf{w}\\|^2$. As long as the design matrix $\\mathbf{X}$ has full rank (no feature is linearly dependent on the others), then there will be just one critical point on the loss surface and it corresponds to the minimum of the loss over the entire domain. \n",
        "- Taking the derivative of the loss with respect to $\\mathbf{w}$ and setting it equal to zero yields:\n",
        "\n",
        "$$\\begin{aligned}\n",
        "    \\partial_{\\mathbf{w}} \\|\\mathbf{y} - \\mathbf{X}\\mathbf{w}\\|^2 =\n",
        "    2 \\mathbf{X}^\\top (\\mathbf{X} \\mathbf{w} - \\mathbf{y}) = 0\n",
        "    \\textrm{ and hence }\n",
        "    \\mathbf{X}^\\top \\mathbf{y} = \\mathbf{X}^\\top \\mathbf{X} \\mathbf{w}.\n",
        "\\end{aligned}$$"
      ]
    },
    {
      "cell_type": "raw",
      "metadata": {},
      "source": [
        "--- \n",
        "\n",
        "- Solving for $\\mathbf{w}$ provides us with the optimal solution for the optimization problem. Note that this solution \n",
        "\n",
        "$$\\mathbf{w}^* = (\\mathbf X^\\top \\mathbf X)^{-1}\\mathbf X^\\top \\mathbf{y}$$\n",
        "\n",
        "will only be unique\n",
        "when the matrix $\\mathbf X^\\top \\mathbf X$ is invertible,\n",
        "i.e., when the columns of the design matrix\n",
        "are linearly independent.\n",
        "\n",
        "---"
      ]
    },
    {
      "cell_type": "markdown",
      "metadata": {},
      "source": [
        "- simple problems like linear regression may admit analytic solutions\n",
        "- Although analytic solutions allow for nice mathematical analysis, the requirement of an analytic solution is so restrictive that it would exclude almost all exciting aspects of deep learning.\n",
        "\n",
        "## Minibatch Stochastic Gradient Descent\n",
        "\n",
        "- even in cases where we cannot solve the models analytically, we can still often train models effectively in practice. \n",
        "-  for many tasks, those hard-to-optimize models turn out to be so much better that figuring out how to train them ends up being well worth the trouble.\n",
        "\n",
        "- key technique for optimizing nearly every deep learning model: algorithm is called *gradient descent*."
      ]
    },
    {
      "cell_type": "raw",
      "metadata": {},
      "source": [
        "--- \n",
        "\n",
        "- most naive application of gradient descent consists of taking the derivative of the loss function, which is an average of the losses computed on every single example in the dataset. \n",
        "- In practice, this can be extremely slow: we must pass over the entire dataset before making a single update, even if the update steps might be very powerful :cite:`Liu.Nocedal.1989`. \n",
        "- Even worse, if there is a lot of redundancy in the training data, the benefit of a full update is limited.\n",
        "\n",
        "- The other extreme is to consider only a single example at a time and to take update steps based on one observation at a time. \n",
        "- The resulting algorithm, *stochastic gradient descent* (SGD) can be an effective strategy :cite:`Bottou.2010`, even for large datasets. \n",
        "\n",
        "--- "
      ]
    },
    {
      "cell_type": "markdown",
      "metadata": {},
      "source": [
        "- Unfortunately, SGD has drawbacks, both computational and statistical. One problem arises from the fact that processors are a lot faster multiplying and adding numbers than they are at moving data from main memory to processor cache. \n",
        "- It is up to an order of magnitude more efficient to perform a matrix--vector multiplication than a corresponding number of vector--vector operations. \n",
        "- This means that it can take a lot longer to process one sample at a time compared to a full batch. \n",
        "- A second problem is that some of the layers, such as batch normalization (to be described in :numref:`sec_batch_norm`), only work well when we have access to more than one observation at a time."
      ]
    },
    {
      "cell_type": "raw",
      "metadata": {},
      "source": [
        "---\n",
        "\n",
        "- The solution to both problems is to pick an intermediate strategy: rather than taking a full batch or only a single sample at a time, we take a *minibatch* of observations :cite:`Li.Zhang.Chen.ea.2014`.\n",
        "- The specific choice of the size of the said minibatch depends on many factors, such as the amount of memory, the number of accelerators, the choice of layers, and the total dataset size.- Despite all that, a number between 32 and 256, preferably a multiple of a large power of $2$, is a good start.\n",
        "- This leads us to *minibatch stochastic gradient descent*.\n",
        "\n",
        "- In its most basic form, in each iteration $t$, we first randomly sample a minibatch $\\mathcal{B}_t$ consisting of a fixed number $|\\mathcal{B}|$ of training examples.\n",
        "- We then compute the derivative (gradient) of the average loss on the minibatch with respect to the model parameters. Finally, we multiply the gradient by a predetermined small positive value $\\eta$, called the *learning rate*, and subtract the resulting term from the current parameter values. \n",
        "  \n",
        "--- "
      ]
    },
    {
      "cell_type": "markdown",
      "metadata": {},
      "source": [
        "- We can express the update as follows:\n",
        "\n",
        "$$(\\mathbf{w},b) \\leftarrow (\\mathbf{w},b) - \\frac{\\eta}{|\\mathcal{B}|} \\sum_{i \\in \\mathcal{B}_t} \\partial_{(\\mathbf{w},b)} l^{(i)}(\\mathbf{w},b).$$\n",
        "\n",
        "In summary, minibatch SGD proceeds as follows:\n",
        "(i) initialize the values of the model parameters, typically at random;\n",
        "(ii) iteratively sample random minibatches from the data,\n",
        "updating the parameters in the direction of the negative gradient.\n",
        "For quadratic losses and affine transformations,\n",
        "this has a closed-form expansion:\n",
        "\n",
        "$$\\begin{aligned} \\mathbf{w} & \\leftarrow \\mathbf{w} - \\frac{\\eta}{|\\mathcal{B}|} \\sum_{i \\in \\mathcal{B}_t} \\partial_{\\mathbf{w}} l^{(i)}(\\mathbf{w}, b) && = \\mathbf{w} - \\frac{\\eta}{|\\mathcal{B}|} \\sum_{i \\in \\mathcal{B}_t} \\mathbf{x}^{(i)} \\left(\\mathbf{w}^\\top \\mathbf{x}^{(i)} + b - y^{(i)}\\right)\\\\ b &\\leftarrow b -  \\frac{\\eta}{|\\mathcal{B}|} \\sum_{i \\in \\mathcal{B}_t} \\partial_b l^{(i)}(\\mathbf{w}, b) &&  = b - \\frac{\\eta}{|\\mathcal{B}|} \\sum_{i \\in \\mathcal{B}_t} \\left(\\mathbf{w}^\\top \\mathbf{x}^{(i)} + b - y^{(i)}\\right). \\end{aligned}$$\n",
        ":eqlabel:`eq_linreg_batch_update`"
      ]
    },
    {
      "cell_type": "raw",
      "metadata": {},
      "source": [
        "---\n",
        "\n",
        "- Since we pick a minibatch $\\mathcal{B}$ we need to normalize by its size $|\\mathcal{B}|$. Frequently minibatch size and learning rate are user-defined. Such tunable parameters that are not updated in the training loop are called *hyperparameters*. \n",
        "- They can be tuned automatically by a number of techniques, such as Bayesian optimization :cite:`Frazier.2018`. In the end, the quality of the solution is typically assessed on a separate *validation dataset* (or *validation set*).\n",
        "\n",
        "- After training for some predetermined number of iterations (or until some other stopping criterion is met), we record the estimated model parameters, denoted $\\hat{\\mathbf{w}}, \\hat{b}$.\n",
        "- Note that even if our function is truly linear and noiseless, these parameters will not be the exact minimizers of the loss, nor even deterministic. \n",
        "- Although the algorithm converges slowly towards the minimizers it typically will not find them exactly in a finite number of steps. \n",
        "- Moreover, the minibatches $\\mathcal{B}$ used for updating the parameters are chosen at random. This breaks determinism.\n",
        "\n",
        "---"
      ]
    },
    {
      "cell_type": "markdown",
      "metadata": {},
      "source": [
        "- Linear regression happens to be a learning problem with a global minimum (whenever $\\mathbf{X}$ is full rank, or equivalently, whenever $\\mathbf{X}^\\top \\mathbf{X}$ is invertible). \n",
        "- However, the loss surfaces for deep networks contain many saddle points and minima. Fortunately, we typically do not care about finding an exact set of parameters but merely any set of parameters that leads to accurate predictions (and thus low loss). \n",
        "- In practice, deep learning practitioners seldom struggle to find parameters that minimize the loss *on training sets* :cite:`Izmailov.Podoprikhin.Garipov.ea.2018,Frankle.Carbin.2018`.\n",
        "- The more formidable task is to find parameters that lead to accurate predictions on previously unseen data, a challenge called *generalization*. \n",
        "\n",
        "## Predictions\n",
        "\n",
        "- Given the model $\\hat{\\mathbf{w}}^\\top \\mathbf{x} + \\hat{b}$, we can now make *predictions* for a new example, e.g., predicting the sales price of a previously unseen house given its area $x_1$ and age $x_2$.\n",
        "- Deep learning practitioners have taken to calling the prediction phase *inference* but this is a bit of a misnomer---*inference* refers broadly to any conclusion reached on the basis of evidence, including both the values of the parameters and the likely label for an unseen instance.\n",
        "- If anything, in the statistics literature *inference* more often denotes parameter inference and this overloading of terminology creates unnecessary confusion when deep learning practitioners talk to statisticians. \n",
        "- In the following we will stick to *prediction* whenever possible.\n",
        "\n",
        "## Vectorization for Speed\n",
        "\n",
        "- When training our models, we typically want to process whole minibatches of examples simultaneously. \n",
        "- Doing this efficiently requires that (**we**) (~~should~~) (**vectorize the calculations and leverage fast linear algebra libraries rather than writing costly for-loops in Python.**)\n",
        "\n",
        "- To see why this matters so much, let's (**consider two methods for adding vectors.**)\n",
        "- To start, we instantiate two 10,000-dimensional vectors containing all 1s.\n",
        "- In the first method, we loop over the vectors with a Python for-loop.\n",
        "- In the second, we rely on a single call to `+`."
      ]
    },
    {
      "cell_type": "code",
      "metadata": {},
      "source": [
        "n = 10000\n",
        "a = torch.ones(n)\n",
        "b = torch.ones(n)"
      ],
      "execution_count": null,
      "outputs": []
    },
    {
      "cell_type": "markdown",
      "metadata": {},
      "source": [
        "---\n",
        "\n",
        "Now we can benchmark the workloads.\n",
        "First, [**we add them, one coordinate at a time,\n",
        "using a for-loop.**]"
      ]
    },
    {
      "cell_type": "code",
      "metadata": {},
      "source": [
        "c = torch.zeros(n)\n",
        "t = time.time()\n",
        "for i in range(n):\n",
        "    c[i] = a[i] + b[i]\n",
        "f'{time.time() - t:.5f} sec'"
      ],
      "execution_count": null,
      "outputs": []
    },
    {
      "cell_type": "markdown",
      "metadata": {},
      "source": [
        "(**Alternatively, we rely on the reloaded `+` operator to compute the elementwise sum.**)"
      ]
    },
    {
      "cell_type": "code",
      "metadata": {},
      "source": [
        "t = time.time()\n",
        "d = a + b\n",
        "f'{time.time() - t:.5f} sec'"
      ],
      "execution_count": null,
      "outputs": []
    },
    {
      "cell_type": "raw",
      "metadata": {},
      "source": [
        "- second method is dramatically faster than the first. Vectorizing code often yields order-of-magnitude speedups. \n",
        "- Moreover, we push more of the mathematics to the library so we do not have to write as many calculations ourselves, reducing the potential for errors and increasing portability of the code.\n",
        "\n",
        "\n",
        "## The Normal Distribution and Squared Loss\n",
        "\n",
        "- So far we have given a fairly functional motivation of the squared loss objective:\n",
        "- the optimal parameters return the conditional expectation $E[Y\\mid X]$ whenever the underlying pattern is truly linear, and the loss assigns large penalties for outliers. \n",
        "- We can also provide a more formal motivation for the squared loss objective by making probabilistic assumptions about the distribution of noise.\n",
        "\n",
        "- Linear regression was invented at the turn of the 19th century. \n",
        "- While it has long been debated whether Gauss or Legendre first thought up the idea, it was Gauss who also discovered the normal distribution (also called the *Gaussian*). It turns out that the normal distribution and linear regression with squared loss share a deeper connection than common parentage.\n",
        "\n",
        "---"
      ]
    },
    {
      "cell_type": "markdown",
      "metadata": {},
      "source": [
        "- To begin, recall that a normal distribution with mean $\\mu$ and variance $\\sigma^2$ (standard deviation $\\sigma$) is given as\n",
        "\n",
        "$$p(x) = \\frac{1}{\\sqrt{2 \\pi \\sigma^2}} \\exp\\left(-\\frac{1}{2 \\sigma^2} (x - \\mu)^2\\right).$$\n",
        "\n",
        "Below [**we define a function to compute the normal distribution**]."
      ]
    },
    {
      "cell_type": "code",
      "metadata": {},
      "source": [
        "def normal(x, mu, sigma):\n",
        "    p = 1 / math.sqrt(2 * math.pi * sigma**2)\n",
        "\n",
        "    return p * np.exp(-0.5 * (x - mu)**2 / sigma**2)"
      ],
      "execution_count": null,
      "outputs": []
    },
    {
      "cell_type": "markdown",
      "metadata": {},
      "source": [
        "---\n",
        "\n",
        "We can now (**visualize the normal distributions**)."
      ]
    },
    {
      "cell_type": "code",
      "metadata": {},
      "source": [
        "from d2l import torch as d2l\n",
        "import matplotlib.pyplot as plt\n",
        "# Use NumPy again for visualization\n",
        "x = np.arange(-7, 7, 0.01)\n",
        "\n",
        "# Mean and standard deviation pairs\n",
        "params = [(0, 1), (0, 2), (3, 1)]\n",
        "d2l.plot(x, [normal(x, mu, sigma) for mu, sigma in params], xlabel='x',\n",
        "         ylabel='p(x)', figsize=(4.5, 2.5),\n",
        "         legend=[f'mean {mu}, std {sigma}' for mu, sigma in params])\n",
        "plt.show()"
      ],
      "execution_count": null,
      "outputs": []
    },
    {
      "cell_type": "raw",
      "metadata": {},
      "source": [
        "Note that changing the mean corresponds\n",
        "to a shift along the $x$-axis,\n",
        "and increasing the variance\n",
        "spreads the distribution out,\n",
        "lowering its peak.\n",
        "\n",
        "---"
      ]
    },
    {
      "cell_type": "markdown",
      "metadata": {},
      "source": [
        "One way to motivate linear regression with squared loss\n",
        "is to assume that observations arise from noisy measurements,\n",
        "where the noise $\\epsilon$ follows the normal distribution \n",
        "$\\mathcal{N}(0, \\sigma^2)$:\n",
        "\n",
        "$$y = \\mathbf{w}^\\top \\mathbf{x} + b + \\epsilon \\textrm{ where } \\epsilon \\sim \\mathcal{N}(0, \\sigma^2).$$\n",
        "\n",
        "\n",
        "Thus, we can now write out the *likelihood*\n",
        "of seeing a particular $y$ for a given $\\mathbf{x}$ via\n",
        "\n",
        "$$P(y \\mid \\mathbf{x}) = \\frac{1}{\\sqrt{2 \\pi \\sigma^2}} \\exp\\left(-\\frac{1}{2 \\sigma^2} (y - \\mathbf{w}^\\top \\mathbf{x} - b)^2\\right).$$\n",
        "\n",
        "As such, the likelihood factorizes.\n",
        "According to *the principle of maximum likelihood*,\n",
        "the best values of parameters $\\mathbf{w}$ and $b$ are those\n",
        "that maximize the *likelihood* of the entire dataset:\n",
        "\n",
        "$$P(\\mathbf y \\mid \\mathbf X) = \\prod_{i=1}^{n} p(y^{(i)} \\mid \\mathbf{x}^{(i)}).$$"
      ]
    },
    {
      "cell_type": "raw",
      "metadata": {},
      "source": [
        "---\n",
        "\n",
        "$$P(\\mathbf y \\mid \\mathbf X) = \\prod_{i=1}^{n} p(y^{(i)} \\mid \\mathbf{x}^{(i)}).$$\n",
        "\n",
        "- equality follows since all pairs $(\\mathbf{x}^{(i)}, y^{(i)})$ were drawn independently of each other.\n",
        "- Estimators chosen according to the principle of maximum likelihood are called *maximum likelihood estimators*. \n",
        "- While, maximizing the product of many exponential functions, might look difficult, we can simplify things significantly, without changing the objective, by maximizing the logarithm of the likelihood instead.\n",
        "- For historical reasons, optimizations are more often expressed as minimization rather than maximization. \n",
        "\n",
        "---"
      ]
    },
    {
      "cell_type": "markdown",
      "metadata": {},
      "source": [
        "- without changing anything, we can *minimize* the *negative log-likelihood*, which we can express as follows:\n",
        "\n",
        "$$-\\log P(\\mathbf y \\mid \\mathbf X) = \\sum_{i=1}^n \\frac{1}{2} \\log(2 \\pi \\sigma^2) + \\frac{1}{2 \\sigma^2} \\left(y^{(i)} - \\mathbf{w}^\\top \\mathbf{x}^{(i)} - b\\right)^2.$$\n",
        "\n",
        "- If we assume that $\\sigma$ is fixed, we can ignore the first term, because it does not depend on $\\mathbf{w}$ or $b$. \n",
        "- The second term is identical to the squared error loss introduced earlier, except for the  ultiplicative constant $\\frac{1}{\\sigma^2}$. \n",
        "- Fortunately, the solution does not depend on $\\sigma$ either. It follows that minimizing the mean squared error is equivalent to the maximum likelihood estimation of a linear model under the assumption of additive Gaussian noise.\n",
        "\n",
        "\n",
        "## Linear Regression as a Neural Network\n",
        "\n",
        "- linear models not sufficiently rich to express the many complicated networks that we will introduce in this book\n",
        "- (artificial) neural networks are rich enough to subsume linear models as networks in which every feature is represented by an input neuron, all of which are connected directly to the output.\n",
        "\n",
        "- :numref:`fig_single_neuron` depicts linear regression as a neural network. The diagram highlights the connectivity pattern, such as how each input is connected to the output, but not the specific values taken by the weights or biases.\n",
        "\n",
        "![Linear regression is a single-layer neural network.](../img/singleneuron.svg)\n",
        ":label:`fig_single_neuron`\n",
        "\n",
        "-  The inputs are $x_1, \\ldots, x_d$. We refer to $d$ as the *number of inputs* or the *feature dimensionality* in the input layer. The output of the network is $o_1$. Because we are just trying to predict a single numerical value, we have only one output neuron. \n",
        "-  Note that the input values are all *given*. There is just a single *computed* neuron. In summary, we can think of linear regression as a single-layer fully connected neural network. \n",
        "-  We will encounter networks with far more layers in later chapters.\n",
        "\n",
        "## Summary\n",
        "\n",
        "- introduced traditional linear regression, where the parameters of a linear function are chosen to minimize squared loss on the training set.\n",
        "- We also motivated this choice of objective both via some practical considerations and through an interpretation of linear regression as maximimum likelihood estimation under an assumption of linearity and Gaussian noise. \n",
        "- After discussing both computational considerations and connections to statistics, we showed how such linear models could be expressed as simple neural networks where the inputs are directly wired to the output(s).\n",
        "- While we will soon move past linear models altogether, they are sufficient to introduce most of the components that all of our models require: \n",
        "- parametric forms, differentiable objectives, optimization via minibatch stochastic gradient descent, and ultimately, evaluation on previously unseen data.\n",
        "\n",
        "## Exercises\n",
        "\n",
        "1. Assume that we have some data $x_1, \\ldots, x_n \\in \\mathbb{R}$. Our goal is to find a constant $b$ such that $\\sum_i (x_i - b)^2$ is minimized.\n",
        "    1. Find an analytic solution for the optimal value of $b$.\n",
        "    1. How does this problem and its solution relate to the normal distribution?\n",
        "    1. What if we change the loss from $\\sum_i (x_i - b)^2$ to $\\sum_i |x_i-b|$? Can you find the optimal solution for $b$?\n",
        "1. Prove that the affine functions that can be expressed by $\\mathbf{x}^\\top \\mathbf{w} + b$ are equivalent to linear functions on $(\\mathbf{x}, 1)$.\n",
        "1. Assume that you want to find quadratic functions of $\\mathbf{x}$, i.e., $f(\\mathbf{x}) = b + \\sum_i w_i x_i + \\sum_{j \\leq i} w_{ij} x_{i} x_{j}$. How would you formulate this in a deep network?\n",
        "1. Recall that one of the conditions for the linear regression problem to be solvable was that the design matrix $\\mathbf{X}^\\top \\mathbf{X}$ has full rank.\n",
        "    1. What happens if this is not the case?\n",
        "    1. How could you fix it? What happens if you add a small amount of coordinate-wise independent Gaussian noise to all entries of $\\mathbf{X}$?\n",
        "    1. What is the expected value of the design matrix $\\mathbf{X}^\\top \\mathbf{X}$ in this case?\n",
        "    1. What happens with stochastic gradient descent when $\\mathbf{X}^\\top \\mathbf{X}$ does not have full rank?\n",
        "1. Assume that the noise model governing the additive noise $\\epsilon$ is the exponential distribution. That is, $p(\\epsilon) = \\frac{1}{2} \\exp(-|\\epsilon|)$.\n",
        "    1. Write out the negative log-likelihood of the data under the model $-\\log P(\\mathbf y \\mid \\mathbf X)$.\n",
        "    1. Can you find a closed form solution?\n",
        "    1. Suggest a minibatch stochastic gradient descent algorithm to solve this problem. What could possibly go wrong (hint: what happens near the stationary point as we keep on updating the parameters)? Can you fix this?\n",
        "1. Assume that we want to design a neural network with two layers by composing two linear layers. That is, the output of the first layer becomes the input of the second layer. Why would such a naive composition not work?\n",
        "1. What happens if you want to use regression for realistic price estimation of houses or stock prices?\n",
        "    1. Show that the additive Gaussian noise assumption is not appropriate. Hint: can we have negative prices? What about fluctuations?\n",
        "    1. Why would regression to the logarithm of the price be much better, i.e., $y = \\log \\textrm{price}$?\n",
        "    1. What do you need to worry about when dealing with pennystock, i.e., stock with very low prices? Hint: can you trade at all possible prices? Why is this a bigger problem for cheap stock? For more information review the celebrated Black--Scholes model for option pricing :cite:`Black.Scholes.1973`.\n",
        "1. Suppose we want to use regression to estimate the *number* of apples sold in a grocery store.\n",
        "    1. What are the problems with a Gaussian additive noise model? Hint: you are selling apples, not oil.\n",
        "    1. The [Poisson distribution](https://en.wikipedia.org/wiki/Poisson_distribution) captures distributions over counts. It is given by $p(k \\mid \\lambda) = \\lambda^k e^{-\\lambda}/k!$. Here $\\lambda$ is the rate function and $k$ is the number of events you see. Prove that $\\lambda$ is the expected value of counts $k$.\n",
        "    1. Design a loss function associated with the Poisson distribution.\n",
        "    1. Design a loss function for estimating $\\log \\lambda$ instead.\n",
        "\n",
        "## Goal of Optimization\n",
        "\n",
        "- optimization provides a way to minimize the loss function for deep learning, in essence, the goals of optimization and deep learning are fundamentally different.\n",
        "- optimization: concerned with minimizing an objective\n",
        "- deep learning: concerned with finding a suitable model, given a finite amount of data.\n"
      ]
    },
    {
      "cell_type": "code",
      "metadata": {},
      "source": [
        "%matplotlib inline\n",
        "from d2l import torch as d2l\n",
        "import numpy as np\n",
        "from mpl_toolkits import mplot3d\n",
        "import torch"
      ],
      "execution_count": null,
      "outputs": []
    },
    {
      "cell_type": "markdown",
      "metadata": {},
      "source": [
        "---\n",
        "\n",
        "- To illustrate the aforementioned different goals, let's consider the empirical risk and the risk. \n",
        "- As described in :numref:`subsec_empirical-risk-and-risk`, the empirical risk is an average loss on the training dataset while the risk is the expected loss on the entire population of data. \n",
        "- Below we define two functions: the risk function `f` and the empirical risk function `g`. Suppose that we have only a finite amount of training data. As a result, here `g` is less smooth than `f`."
      ]
    },
    {
      "cell_type": "code",
      "metadata": {},
      "source": [
        "def f(x):\n",
        "    return x * torch.cos(np.pi * x)\n",
        "\n",
        "def g(x):\n",
        "    return f(x) + 0.2 * torch.cos(5 * np.pi * x)"
      ],
      "execution_count": null,
      "outputs": []
    },
    {
      "cell_type": "raw",
      "metadata": {},
      "source": [
        "--- "
      ]
    },
    {
      "cell_type": "markdown",
      "metadata": {},
      "source": [
        "- graph below illustrates that the minimum of the empirical risk on a training dataset may be at a different location from the minimum of the risk (generalization error)."
      ]
    },
    {
      "cell_type": "code",
      "metadata": {},
      "source": [
        "def annotate(text, xy, xytext):  #@save\n",
        "    d2l.plt.gca().annotate(text, xy=xy, xytext=xytext,\n",
        "                           arrowprops=dict(arrowstyle='->'))\n",
        "\n",
        "x = d2l.arange(0.5, 1.5, 0.01)\n",
        "d2l.set_figsize((4.5, 2.5))\n",
        "d2l.plot(x, [f(x), g(x)], 'x', 'risk')\n",
        "annotate('min of\\nempirical risk', (1.0, -1.2), (0.5, -1.1))\n",
        "annotate('min of risk', (1.1, -1.05), (0.95, -0.5))"
      ],
      "execution_count": null,
      "outputs": []
    },
    {
      "cell_type": "markdown",
      "metadata": {},
      "source": [
        "## Optimization Challenges in Deep Learning\n",
        "\n",
        "- focus specifically on the performance of optimization algorithms in minimizing the objective function, rather than a model's generalization error. \n",
        "- In :numref:`sec_linear_regression` we distinguished between analytical solutions and numerical solutions in optimization problems. \n",
        "- In deep learning, most objective functions are complicated and do not have analytical solutions. Instead, we must use numerical optimization algorithms. \n",
        "- The optimization algorithms in this chapter all fall into this category.\n",
        "- There are many challenges in deep learning optimization. Some of the most vexing ones are local minima, saddle points, and vanishing gradients. Let's have a look at them. \n",
        "\n",
        "## Local Minima\n",
        "\n",
        "- For any objective function $f(x)$, if the value of $f(x)$ at $x$ is smaller than the values of $f(x)$ at any other points in the vicinity of $x$, then $f(x)$ could be a local minimum. \n",
        "- If the value of $f(x)$ at $x$ is the minimum of the objective function over the entire domain, then $f(x)$ is the global minimum.\n",
        "\n",
        "- For example, given the function\n",
        "\n",
        "$$f(x) = x \\cdot \\textrm{cos}(\\pi x) \\textrm{ for } -1.0 \\leq x \\leq 2.0,$$"
      ]
    },
    {
      "cell_type": "markdown",
      "metadata": {},
      "source": [
        "--- \n",
        "\n",
        "we can approximate the local minimum and global minimum of this function."
      ]
    },
    {
      "cell_type": "code",
      "metadata": {},
      "source": [
        "x = torch.arange(-1.0, 2.0, 0.01)\n",
        "d2l.plot(x, [f(x), ], 'x', 'f(x)')\n",
        "annotate('local minimum', (-0.3, -0.25), (-0.77, -1.0))\n",
        "annotate('global minimum', (1.1, -0.95), (0.6, 0.8))"
      ],
      "execution_count": null,
      "outputs": []
    },
    {
      "cell_type": "markdown",
      "metadata": {},
      "source": [
        "-  objective function of deep learning models usually has many local optima. \n",
        "-  When the numerical solution of an optimization problem is near the local optimum, the numerical solution obtained by the final iteration may only minimize the objective function *locally*, rather than *globally*, as the gradient of the objective function's solutions approaches or becomes zero.\n",
        "-  Only some degree of noise might knock the parameter out of the local minimum. In fact, this is one of the beneficial properties of minibatch stochastic gradient descent where the natural variation of gradients over minibatches is able to dislodge the parameters from local minima.\n",
        "\n",
        "## Saddle Points\n",
        "\n",
        "- Besides local minima, saddle points are another reason for gradients to vanish. A *saddle point* is any location where all gradients of a function vanish but which is neither a global nor a local minimum.\n",
        "- Consider the function $f(x) = x^3$. Its first and second derivative vanish for $x=0$. Optimization might stall at this point, even though it is not a minimum."
      ]
    },
    {
      "cell_type": "code",
      "metadata": {},
      "source": [
        "x = d2l.arange(-2.0, 2.0, 0.01)\n",
        "d2l.plot(x, [x**3], 'x', 'f(x)')\n",
        "annotate('saddle point', (0, -0.2), (-0.52, -5.0))"
      ],
      "execution_count": null,
      "outputs": []
    },
    {
      "cell_type": "raw",
      "metadata": {},
      "source": [
        "--- "
      ]
    },
    {
      "cell_type": "markdown",
      "metadata": {},
      "source": [
        "- Saddle points in higher dimensions are even more insidious, as the example below shows. Consider the function $f(x, y) = x^2 - y^2$. It has its saddle point at $(0, 0)$. This is a maximum with respect to $y$ and a minimum with respect to $x$. Moreover, it *looks* like a saddle, which is where this mathematical property got its name.\n"
      ]
    },
    {
      "cell_type": "code",
      "metadata": {},
      "source": [
        "x, y = d2l.meshgrid(\n",
        "    d2l.linspace(-1.0, 1.0, 101), d2l.linspace(-1.0, 1.0, 101))\n",
        "z = x**2 - y**2\n",
        "\n",
        "ax = d2l.plt.figure().add_subplot(111, projection='3d')\n",
        "ax.plot_wireframe(x, y, z, **{'rstride': 10, 'cstride': 10})\n",
        "ax.plot([0], [0], [0], 'rx')\n",
        "ticks = [-1, 0, 1]\n",
        "d2l.plt.xticks(ticks)\n",
        "d2l.plt.yticks(ticks)\n",
        "ax.set_zticks(ticks)\n",
        "d2l.plt.xlabel('x')\n",
        "d2l.plt.ylabel('y');"
      ],
      "execution_count": null,
      "outputs": []
    },
    {
      "cell_type": "raw",
      "metadata": {},
      "source": [
        "--- \n",
        "\n",
        "- We assume that the input of a function is a $k$-dimensional vector and its output is a scalar, so its Hessian matrix will have $k$ eigenvalues. \n",
        "- The solution of the function could be a local minimum, a local maximum, or a saddle point at a position where the function gradient is zero:\n",
        "\n",
        "* When the eigenvalues of the function's Hessian matrix at the zero-gradient position are all positive, we have a local minimum for the function.\n",
        "* When the eigenvalues of the function's Hessian matrix at the zero-gradient position are all negative, we have a local maximum for the function.\n",
        "* When the eigenvalues of the function's Hessian matrix at the zero-gradient position are negative and positive, we have a saddle point for the function.\n",
        "\n",
        "--- "
      ]
    },
    {
      "cell_type": "markdown",
      "metadata": {},
      "source": [
        "For high-dimensional problems the likelihood that at least *some* of the eigenvalues are negative is quite high. This makes saddle points more likely than local minima. We will discuss some exceptions to this situation in the next section when introducing convexity. In short, convex functions are those where the eigenvalues of the Hessian are never negative. Sadly, though, most deep learning problems do not fall into this category. Nonetheless it is a great tool to study optimization algorithms.\n",
        "\n",
        "## Vanishing Gradients\n",
        "\n",
        "Probably the most insidious problem to encounter is the vanishing gradient.\n",
        "Recall our commonly-used activation functions and their derivatives in :numref:`subsec_activation-functions`.\n",
        "For instance, assume that we want to minimize the function $f(x) = \\tanh(x)$ and we happen to get started at $x = 4$. As we can see, the gradient of $f$ is close to nil."
      ]
    },
    {
      "cell_type": "markdown",
      "metadata": {},
      "source": [
        "--- \n",
        "\n",
        "More specifically, $f'(x) = 1 - \\tanh^2(x)$ and thus $f'(4) = 0.0013$.\n",
        "Consequently, optimization will get stuck for a long time before we make progress. This turns out to be one of the reasons that training deep learning models was quite tricky prior to the introduction of the ReLU activation function."
      ]
    },
    {
      "cell_type": "code",
      "metadata": {},
      "source": [
        "#@tab all\n",
        "x = d2l.arange(-2.0, 5.0, 0.01)\n",
        "d2l.plot(x, [d2l.tanh(x)], 'x', 'f(x)')\n",
        "annotate('vanishing gradient', (4, 1), (2, 0.0))"
      ],
      "execution_count": null,
      "outputs": []
    },
    {
      "cell_type": "raw",
      "metadata": {},
      "source": [
        "--- "
      ]
    },
    {
      "cell_type": "markdown",
      "metadata": {},
      "source": [
        "As we saw, optimization for deep learning is full of challenges. Fortunately there exists a robust range of algorithms that perform well and that are easy to use even for beginners. Furthermore, it is not really necessary to find *the* best solution. Local optima or even approximate solutions thereof are still very useful.\n",
        "\n",
        "## Summary\n",
        "\n",
        "* Minimizing the training error does *not* guarantee that we find the best set of parameters to minimize the generalization error.\n",
        "* The optimization problems may have many local minima.\n",
        "* The problem may have even more saddle points, as generally the problems are not convex.\n",
        "* Vanishing gradients can cause optimization to stall. Often a reparametrization of the problem helps. Good initialization of the parameters can be beneficial, too.\n",
        "\n",
        "\n",
        "## Exercises\n",
        "\n",
        "1. Consider a simple MLP with a single hidden layer of, say, $d$ dimensions in the hidden layer and a single output. Show that for any local minimum there are at least $d!$ equivalent solutions that behave identically.\n",
        "1. Assume that we have a symmetric random matrix $\\mathbf{M}$ where the entries\n",
        "   $M_{ij} = M_{ji}$ are each drawn from some probability distribution\n",
        "   $p_{ij}$. Furthermore assume that $p_{ij}(x) = p_{ij}(-x)$, i.e., that the\n",
        "   distribution is symmetric (see e.g., :citet:`Wigner.1958` for details).\n",
        "    1. Prove that the distribution over eigenvalues is also symmetric. That is, for any eigenvector $\\mathbf{v}$ the probability that the associated eigenvalue $\\lambda$ satisfies $P(\\lambda > 0) = P(\\lambda < 0)$.\n",
        "    1. Why does the above *not* imply $P(\\lambda > 0) = 0.5$?\n",
        "1. What other challenges involved in deep learning optimization can you think of?\n",
        "1. Assume that you want to balance a (real) ball on a (real) saddle.\n",
        "    1. Why is this hard?\n",
        "    1. Can you exploit this effect also for optimization algorithms?"
      ]
    }
  ],
  "metadata": {
    "kernelspec": {
      "name": "python3",
      "language": "python",
      "display_name": "Python 3 (ipykernel)"
    }
  },
  "nbformat": 4,
  "nbformat_minor": 4
}