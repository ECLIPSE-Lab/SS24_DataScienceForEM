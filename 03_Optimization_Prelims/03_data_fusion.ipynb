{
  "cells": [
    {
      "cell_type": "raw",
      "metadata": {},
      "source": [
        "---\n",
        "format:\n",
        "  revealjs:\n",
        "    theme: night\n",
        "    slide-number: c/t\n",
        "    logo: eclipse_logo_small.png\n",
        "    footer: '[SS24_DataScienceForEM](https://github.com/ECLIPSE-Lab/SS24_DataScienceForEM)'\n",
        "    code-copy: true\n",
        "    center-title-slide: false\n",
        "    include-in-header: ../heading-meta.html\n",
        "    code-link: true\n",
        "    code-overflow: wrap\n",
        "    highlight-style: a11y\n",
        "    height: 1080\n",
        "    width: 1920\n",
        "execute:\n",
        "  eval: true\n",
        "  echo: true\n",
        "title: Regression example - sensor fusion\n",
        "---"
      ]
    },
    {
      "cell_type": "markdown",
      "metadata": {},
      "source": [
        "## Regression example: Sensor Fusion EDX + HAADF\n",
        "<br>\n",
        "<h2> Data Science in Electron Microscopy </h2>\n",
        "\n",
        "<hr>\n",
        "\n",
        "<h3> Philipp Pelz </h3>\n",
        "\n",
        "<h3> 2024 </h3>\n",
        "<br>\n",
        "\n",
        "<h3>  &nbsp; [https://github.com/ECLIPSE-Lab/SS24_DataScienceForEM](https://github.com/ECLIPSE-Lab/SS24_DataScienceForEM)\n",
        "</h3>\n",
        "\n",
        "## Load Python modules"
      ]
    },
    {
      "cell_type": "code",
      "metadata": {},
      "source": [
        "from scipy.sparse import spdiags\n",
        "import matplotlib.pyplot as plt\n",
        "import fusion_utils as utils\n",
        "from tqdm import tqdm \n",
        "import numpy as np\n",
        "import h5py\n",
        "# import sys\n",
        "# raise RuntimeError(sys.executable)"
      ],
      "execution_count": null,
      "outputs": []
    },
    {
      "cell_type": "markdown",
      "metadata": {},
      "source": [
        "## Load Chemical Maps "
      ]
    },
    {
      "cell_type": "code",
      "metadata": {},
      "source": [
        "fname = 'CoSX_maps.h5'; mapNum = 'map7/'\n",
        "\n",
        "# Parse Chemical Maps\n",
        "elementList = ['Co', 'O', 'S']\n",
        "\n",
        "# Load Raw Data and Reshape\n",
        "file = h5py.File(fname, 'r')\n",
        "\n",
        "print('Available EDX Maps: ', list(file))\n",
        "\n",
        "xx = np.array([],dtype=np.float32)\n",
        "for ee in elementList:\n",
        "\n",
        "\t# Read Chemical Map for Element \"ee\"\n",
        "\tedsMap = file[mapNum+ee][:,:]\n",
        "\n",
        "\t# Set Noise Floor to Zero and Normalize Chemical Maps\n",
        "\tedsMap -= np.min(edsMap); edsMap /= np.max(edsMap)\n",
        "\n",
        "\t# Concatenate Chemical Map to Variable of Interest\n",
        "\txx = np.concatenate([xx,edsMap.flatten()])\n",
        "\n",
        "# Make Copy of Raw Measurements for Poisson Maximum Likelihood Term \n",
        "xx0 = xx.copy()"
      ],
      "execution_count": null,
      "outputs": []
    },
    {
      "cell_type": "markdown",
      "metadata": {},
      "source": [
        "## Parse Meta Data, Prepare Reconstruction and Display Raw Chemical Maps"
      ]
    },
    {
      "cell_type": "code",
      "metadata": {},
      "source": [
        "# Image Dimensions\n",
        "(nx, ny) = edsMap.shape; nPix = nx * ny\n",
        "nz = len(elementList); lambdaHAADF = 1/nz\n",
        "\n",
        "import torch\n",
        "import kornia\n",
        "import cv2\n",
        "import numpy as np\n",
        "\n",
        "import matplotlib.pyplot as plt\n",
        "class TVDenoise(torch.nn.Module):\n",
        "    def __init__(self, noisy_image, lambdaTV):\n",
        "        super(TVDenoise, self).__init__()\n",
        "        self.lambdaTV = lambdaTV\n",
        "        self.l2_term = torch.nn.MSELoss(reduction='mean')\n",
        "        self.regularization_term = kornia.losses.TotalVariation()\n",
        "        # create the variable which will be optimized to produce the noise free image\n",
        "        self.clean_image = torch.nn.Parameter(data=noisy_image.clone(), requires_grad=True)\n",
        "        self.noisy_image = noisy_image\n",
        "\n",
        "    def forward(self):\n",
        "        return self.l2_term(self.clean_image, self.noisy_image) + lambdaTV * self.regularization_term(self.clean_image)\n",
        "\n",
        "    def get_clean_image(self):\n",
        "        return self.clean_image\n",
        "\n",
        "def reg(x, lambda_TV, ng):\n",
        "  # read the image with OpenCV\n",
        "  img = x\n",
        "  # convert to torch tensor\n",
        "  noisy_image: torch.tensor = kornia.image_to_tensor(img).squeeze()  # CxHxW\n",
        "  # define the total variation denoising network\n",
        "  tv_denoiser = TVDenoise(noisy_image, lambda_TV)\n",
        "  # define the optimizer to optimize the 1 parameter of tv_denoiser\n",
        "  optimizer = torch.optim.SGD(tv_denoiser.parameters(), lr=0.1, momentum=0.9)\n",
        "  # run the optimization loop\n",
        "  for i in range(ng):\n",
        "      optimizer.zero_grad()\n",
        "      loss = tv_denoiser()\n",
        "      # if i % 25 == 0:\n",
        "      #     print(\"Loss in iteration {} of {}: {:.3f}\".format(i, ng, loss.item()))\n",
        "      loss.backward()\n",
        "      optimizer.step()\n",
        "  # convert back to numpy\n",
        "  img_clean: np.ndarray = kornia.tensor_to_image(tv_denoiser.get_clean_image())\n",
        "  return img_clean, loss.item()\n",
        "\n",
        "# HAADF Signal (Measurements)\n",
        "b = file[mapNum+'HAADF'][:].flatten()\n",
        "\n",
        "# Data Subtraction and Normalization \n",
        "b -= np.min(b); b /= np.max(b)\n",
        "\n",
        "# Create Summation Matrix\n",
        "A = utils.create_measurement_matrix(nx,ny,nz)\n"
      ],
      "execution_count": null,
      "outputs": []
    },
    {
      "cell_type": "code",
      "metadata": {},
      "source": [
        "# Show Raw Data\n",
        "utils.plot_elemental_images(xx, b, elementList, nx, ny, 2,2)"
      ],
      "execution_count": null,
      "outputs": []
    },
    {
      "cell_type": "markdown",
      "metadata": {},
      "source": [
        "## Plot Regularization"
      ]
    },
    {
      "cell_type": "code",
      "metadata": {},
      "source": [
        "regularize = True; ng = 15; lambdaTV = 0.1; \n",
        "r, cost = reg(edsMap, lambdaTV, ng)\n",
        "\n",
        "import matplotlib.pyplot as plt \n",
        "fig, ax = plt.subplots()\n",
        "ax.imshow(r)\n",
        "plt.show()"
      ],
      "execution_count": null,
      "outputs": []
    },
    {
      "cell_type": "markdown",
      "metadata": {},
      "source": [
        "## Perform Multi-Modal Data Fusion\n"
      ]
    },
    {
      "cell_type": "code",
      "metadata": {},
      "source": [
        "# Convergence Parameters\n",
        "gamma = 1.6; lambdaEDS = 5e-6; nIter = 30; bkg = 1e-1\n",
        "\n",
        "# TV Min Parameters\n",
        "regularize = True; ng = 15; lambdaTV = 0.1; \n",
        "\n",
        "# Auxiliary Functions\n",
        "lsqFun = lambda inData : 0.5 * np.linalg.norm(A.dot(inData**gamma) - b) **2\n",
        "poissonFun = lambda inData : np.sum(xx0 * np.log(inData + 1e-8) - inData)\n",
        "\n",
        "# Main Loop\n",
        "costHAADF = np.zeros(nIter,dtype=np.float32); costEDS = np.zeros(nIter, dtype=np.float32); costTV = np.zeros(nIter, dtype=np.float32);\n",
        "for kk in tqdm(range(nIter)):\n",
        "\n",
        "\t# HAADF Update\n",
        "\txx -=  gamma * spdiags(xx**(gamma - 1), [0], nz*nx*ny, nz*nx*ny) * lambdaHAADF * A.transpose() * (A.dot(xx**gamma) - b) \\\n",
        "\t\t\t+ lambdaEDS * (1 - xx0 / (xx + bkg))\n",
        "\txx[xx<0] = 0\n",
        "\n",
        "\t# Regularization \n",
        "\tif regularize:\n",
        "\t\tfor zz in range(nz):\n",
        "\t\t\tw, cost = reg( xx[zz*nPix:(zz+1)*nPix].reshape(ny,nx), lambdaTV, ng)\n",
        "\t\t\txx[zz*nPix:(zz+1)*nPix] = w.reshape((nPix,))\n",
        "\n",
        "\t# Measure Cost Function\n",
        "\tcostHAADF[kk] = lsqFun(xx); costEDS[kk] = poissonFun(xx)\n",
        "\n",
        "\t# Measure Isotropic TV \n",
        "\tif regularize:\n",
        "\t\tfor zz in range(nz):\n",
        "\t\t\tw, cost = reg( xx[zz*nPix:(zz+1)*nPix].reshape(ny,nx), lambdaTV, ng)\n",
        "\t\t\tcostTV[kk] += cost \n"
      ],
      "execution_count": null,
      "outputs": []
    },
    {
      "cell_type": "markdown",
      "metadata": {},
      "source": [
        "## Show Reconstructed Signal"
      ]
    },
    {
      "cell_type": "code",
      "metadata": {},
      "source": [
        "utils.plot_elemental_images(xx,A.dot(xx**gamma),elementList,nx,ny,2,2)"
      ],
      "execution_count": null,
      "outputs": []
    },
    {
      "cell_type": "markdown",
      "metadata": {},
      "source": [
        "## Display Cost Functions and Descent Parameters"
      ]
    },
    {
      "cell_type": "code",
      "metadata": {},
      "source": [
        "utils.plot_convergence(costHAADF, lambdaHAADF, costEDS, lambdaEDS, costTV, lambdaTV)"
      ],
      "execution_count": null,
      "outputs": []
    }
  ],
  "metadata": {
    "kernelspec": {
      "name": "python3",
      "language": "python",
      "display_name": "Python 3 (ipykernel)"
    }
  },
  "nbformat": 4,
  "nbformat_minor": 4
}