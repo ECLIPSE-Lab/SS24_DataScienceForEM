{
  "cells": [
    {
      "cell_type": "raw",
      "metadata": {},
      "source": [
        "---\n",
        "format: \n",
        "  revealjs:\n",
        "    theme: \"night\" #[\"theme/q-theme.scss\"]\n",
        "    slide-number: c/t\n",
        "    logo: \"eclipse_logo_small.png\"\n",
        "    footer: \"[SS24_DataScienceForEM](https://github.com/ECLIPSE-Lab/SS24_DataScienceForEM)\"\n",
        "    code-copy: true\n",
        "    center-title-slide: false\n",
        "    include-in-header: ../heading-meta.html\n",
        "    code-link: true\n",
        "    code-overflow: wrap\n",
        "    highlight-style: a11y\n",
        "    height: 1080\n",
        "    width: 1920\n",
        "    ### output-file: 02_preliminaries.html\n",
        "execute: \n",
        "  eval: true\n",
        "  echo: true\n",
        "---"
      ],
      "id": "1012d345"
    },
    {
      "cell_type": "markdown",
      "metadata": {},
      "source": [
        "## Data Science in Electron Microscopy\n",
        "<br>\n",
        "<hr>\n",
        "\n",
        "<h3> Philipp Pelz </h3>\n",
        "\n",
        "<h3> 2024 </h3>\n",
        "<br>\n",
        "\n",
        "<h3>  &nbsp; [https://github.com/ECLIPSE-Lab/SS24_DataScienceForEM](https://github.com/ECLIPSE-Lab/SS24_DataScienceForEM)\n",
        "</h3>\n",
        "\n",
        "## VAE example: Exploring Order Parameters and Dynamic Processes in Disordered Systems via Variational Autoencoders\n",
        "\n",
        "**Authors:** Sergei V. Kalinin, Ondrej Dyck, Stephen Jesse, Maxim Ziatdinov  \n",
        "**Published in:** Science Advances (2021)  \n",
        "**DOI:** [10.1126/sciadv.abd5084](https://doi.org/10.1126/sciadv.abd5084)\n",
        "\n",
        "![Single image from dynamic STEM dataset corresponding to 10th frame](../img2/abd5084-f2.jpeg){ width=80% background=\"white\"}\n",
        "\n",
        "## Introduction\n",
        "\n",
        "- **Objective**: Analyze dynamic processes and order parameters in disordered systems.\n",
        "- **Approach**: Use rotationally invariant variational autoencoders (rVAEs).\n",
        "- **Application**: Studied e-beam induced processes in silicon-doped graphene.\n",
        "\n",
        "![Evolution of graphene under e-beam irradiation.](../img2/abd5084-f3.jpeg){ width=80% background=\"white\"}\n",
        "\n",
        "## Rotationally Invariant VAEs\n",
        "\n",
        "- **Purpose**: Handle rotational invariance in noncrystalline solids.\n",
        "- **Method**:\n",
        "  - Incorporate rotational and translational invariance.\n",
        "  - Apply rVAEs to semantically segmented, atomically resolved data.\n",
        "- **Benefit**: Captures maximum original information with reduced representation.\n",
        "\n",
        "![Diagram of the spatial-VAE framework](../img2/spatialGAN.png){ width=80% background=\"white\"}\n",
        "\n",
        "## Rotationally Invariant VAEs Forward\n",
        "\n",
        "```{.python .input n=30}\n",
        "class SpatialGenerator(nn.Module):\n",
        "    def forward(self, x, z):\n",
        "        # x is (batch, num_coords, 2)\n",
        "        # z is (batch, latent_dim)\n",
        "\n",
        "        if len(x.size()) < 3:\n",
        "            x = x.unsqueeze(0)\n",
        "        b = x.size(0)\n",
        "        n = x.size(1)\n",
        "        x = x.view(b*n, -1)\n",
        "\n",
        "        h_x = self.coord_linear(x)\n",
        "        h_x = h_x.view(b, n, -1)\n",
        "\n",
        "        h_z = 0\n",
        "\n",
        "        if len(z.size()) < 2:\n",
        "            z = z.unsqueeze(0)\n",
        "        h_z = self.latent_linear(z)\n",
        "        h_z = h_z.unsqueeze(1)\n",
        "\n",
        "        h_bi = 0\n",
        "        h = h_x + h_z + h_bi # (batch, num_coords, hidden_dim)\n",
        "        h = h.view(b*n, -1)\n",
        "\n",
        "        y = self.layers(h) # (batch*num_coords, nout)\n",
        "        y = y.view(b, n, -1)\n",
        "\n",
        "        if self.softplus: # only apply softplus to first output\n",
        "            y = torch.cat([F.softplus(y[:,:,:1]), y[:,:,1:]], 2)\n",
        "\n",
        "        return y\n",
        "\n",
        "```\n",
        "## Experimental Setup\n",
        "\n",
        "- **Sample**: Silicon-doped graphene.\n",
        "- **Imaging**: Scanning transmission electron microscopy (STEM).\n",
        "- **Procedure**:\n",
        "  - Use DCNN for initial pixel probability maps.\n",
        "  - Extract atomic positions for VAE analysis.\n",
        "- **Data**: Multiple snapshots during dynamic processes.\n",
        "\n",
        "![Schematic of the overall approach.](../img2/abd5084-f1.jpeg){ width=80% background=\"white\"}\n",
        "\n",
        "## Data Analysis with rVAE\n",
        "\n",
        "- **Workflow**:\n",
        "  1. DCNN categorizes pixels into atomic types.\n",
        "  2. Generate subimages centered on atomic positions.\n",
        "  3. rVAE seeks the most effective reduced representation.\n",
        "- **Output**: Identifies key structural elements and their dynamics.\n",
        "\n",
        "![Workflow](../img2/abd5084-f1.jpeg){ width=80% background=\"white\"}\n",
        "\n",
        "\n",
        "## Results\n",
        "\n",
        "- **Findings**:\n",
        "  - Effective exploration of chemical evolution in the system.\n",
        "  - rVAE captured rotationally invariant features.\n",
        "\n",
        "## Comparison of methods for construction of elementary descriptors.\n",
        "\n",
        "- (A to C) small and (D to F) large windows. \n",
        "- (A and D) GMM classes of the data that are decomposed into many independent components that are statistical in nature and often do not allow for direct physical interpretation. In (D), this approach performs poorly at capturing rotation and spreads this information across several components. (B and E) Representation in 2D latent space of convolutional AE. Red and blue regions in (B) indicate clear separation of graphene sublattices with remainder of the descriptors encoding lateral shifts, defects, and rotations in a convoluted fashion. \n",
        "\n",
        "![Comparison of methods for construction of elementary descriptors.](../img2/abd5084-f5.jpeg){ width=80% background=\"white\"}\n",
        "\n",
        "## Comparison of methods for construction of elementary descriptors.\n",
        "\n",
        "- In (E), the larger window introduces variability that is more difficult to interpret. (C and F) Representation in the 2D latent space of rotationally invariant VAE. \n",
        "Because rotational variation is removed from elementary descriptors, remaining variations within data can be described much more efficiently. \n",
        "- In (C), there are noticeable changes in only one dimension, which can be ascribed to degree of local crystallinity. \n",
        "In (F), the larger window size also captures variations related to proximity of edges.\n",
        " In (B), (C), (E), and (F), the images were generated by applying a corresponding decoder to the uniform grid of discrete point in the latent space.\n",
        "\n",
        "![Comparison of methods for construction of elementary descriptors.](../img2/abd5084-f5.jpeg){ width=80% background=\"white\"}\n",
        "\n",
        "## Results\n",
        "\n",
        "- **Evaluation**:\n",
        "  - Identified structural changes due to e-beam.\n",
        "  - Analyzed formation of 5-7 member defect chains.\n",
        "  - Detected migration of Si atoms to graphene edges.\n",
        "\n",
        "\n",
        "\n",
        "## Comparison with Other Methods\n",
        "\n",
        "- **GMM Analysis**:\n",
        "  - Generates independent components.\n",
        "  - Effective for imaging but less interpretable structurally.\n",
        "- **Classical AE**:\n",
        "  - Reduced data to continuous latent variables.\n",
        "  - Convoluted rotation and structural variations.\n",
        "- **rVAE**:\n",
        "  - Separated rotation and structural changes.\n",
        "  - Provided clear physical interpretation.\n",
        "\n",
        "## Comparison with Other Methods 2\n",
        "\n",
        "![Different embeddings](../img2/VAEvsrVAE.png){ width=80% background=\"white\"}\n",
        "\n",
        "\n",
        "## Conclusion\n",
        "\n",
        "- **Significance**:\n",
        "  - rVAEs provide a robust framework for analyzing disordered systems.\n",
        "  - Effective for bottom-up description of dynamic processes.\n",
        "\n",
        "# Generative Adversarial Networks\n",
        ":label:`sec_basic_gan`\n",
        "\n",
        "- **Discriminative Learning:**\n",
        "  - Predicts labels from data examples.\n",
        "  - Examples: classifiers and regressors.\n",
        "  - Deep neural networks have revolutionized discriminative learning, achieving human-level accuracy on high-res images.\n",
        "\n",
        "- **Generative Modeling:**\n",
        "  - Learns a model to capture data characteristics without labels.\n",
        "  - Generates synthetic data resembling the training dataset.\n",
        "  - Example: Generating photorealistic images from a dataset of faces."
      ],
      "id": "c12be482"
    },
    {
      "cell_type": "raw",
      "metadata": {},
      "source": [
        "---\n",
        "\n",
        "- **Deep Neural Networks in Generative Modeling:**\n",
        "  - Recent advances have enabled discriminative models to assist generative tasks.\n",
        "  - Example: Recurrent neural network language models.\n",
        "\n",
        "- **Generative Adversarial Networks (GANs):**\n",
        "  - Introduced in 2014 by Goodfellow et al.\n",
        "  - Leverages discriminative models to create generative models.\n",
        "  - Concept: A good data generator makes fake data indistinguishable from real data (two-sample test).\n",
        "  - GANs use the two-sample test constructively to train generative models.\n",
        "  - Aim: Improve the generator until it fools a state-of-the-art classifier.\n",
        "\n",
        "---"
      ],
      "id": "8c101e07"
    },
    {
      "cell_type": "markdown",
      "metadata": {},
      "source": [
        ":::: {.columns}\n",
        "\n",
        "::: {.column width=\"40%\"}\n",
        "![Generative Adversarial Networks](../img/gan.svg){ width=50% background=\"white\"}\n",
        "`fig_gan`\n",
        ":::\n",
        "\n",
        "::: {.column width=\"60%\"}\n",
        "The GAN architecture is illustrated in :numref:`fig_gan`.\n",
        "\n",
        "- **GAN Architecture:**\n",
        "  - **Generator Network:**\n",
        "    - Generates data resembling real data.\n",
        "    - For images: generates images.\n",
        "    - For speech: generates audio sequences.\n",
        "  - **Discriminator Network:**\n",
        "    - Distinguishes fake data from real data.\n",
        "    - Competes with the generator.\n",
        "    - Adaptively improves to distinguish better as the generator improves.\n",
        ":::\n",
        "\n",
        "::::"
      ],
      "id": "f123acf0"
    },
    {
      "cell_type": "raw",
      "metadata": {},
      "source": [
        "---\n",
        "\n",
        "- **Discriminator:**\n",
        "  - Binary classifier: distinguishes real ($x$) vs. fake data.\n",
        "  - Outputs scalar prediction $o \\in \\mathbb{R}$ for input $\\mathbf{x}$.\n",
        "  - Applies sigmoid function: $D(\\mathbf{x}) = \\frac{1}{1 + e^{-o}}$.\n",
        "  - True data label $y = 1$, fake data label $y = 0$.\n",
        "  - Minimize cross-entropy loss:\n",
        "    $$\n",
        "    \\min_D \\{ - y \\log D(\\mathbf{x}) - (1-y) \\log(1-D(\\mathbf{x})) \\}\n",
        "    $$\n",
        "\n",
        "---"
      ],
      "id": "fa6fa38b"
    },
    {
      "cell_type": "markdown",
      "metadata": {},
      "source": [
        "- **Generator:**\n",
        "  - Draws parameter $\\mathbf{z} \\in \\mathbb{R}^d$ from randomness, e.g., $\\mathbf{z} \\sim \\mathcal{N}(0, 1)$ (latent variable).\n",
        "  - Generates data: $\\mathbf{x}' = G(\\mathbf{z})$.\n",
        "  - Aims to fool the discriminator: $D(G(\\mathbf{z})) \\approx 1$.\n",
        "  - Update parameters to maximize cross-entropy loss for $y = 0$:\n",
        "    $$\n",
        "    \\max_G \\{ - \\log(1-D(G(\\mathbf{z}))) \\}\n",
        "    $$\n",
        "  - Commonly minimize the loss:\n",
        "    $$\n",
        "    \\min_G \\{ - \\log(D(G(\\mathbf{z}))) \\}\n",
        "    $$\n",
        "    - This is feeding $\\mathbf{x}' = G(\\mathbf{z})$ into the discriminator but giving label $y = 1$."
      ],
      "id": "aa4e2a31"
    },
    {
      "cell_type": "markdown",
      "metadata": {},
      "source": [
        "---\n",
        "\n",
        "- **Minimax Game:**\n",
        "  - $D$ and $G$ play a \"minimax\" game with the objective function:\n",
        "    $$\n",
        "    \\min_D \\max_G \\{ -E_{x \\sim \\text{Data}} \\log D(\\mathbf{x}) - E_{z \\sim \\text{Noise}} \\log(1 - D(G(\\mathbf{z}))) \\}\n",
        "    $$\n",
        "\n",
        "- **Applications:**\n",
        "  - Many GAN applications are in the context of images.\n",
        "  - Demonstration: fitting a simpler distribution.\n",
        "  - Example: Using GANs to estimate parameters for a Gaussian.\n",
        "\n",
        "Let's get started.\n"
      ],
      "id": "e197f01c"
    },
    {
      "cell_type": "code",
      "metadata": {},
      "source": [
        "from d2l import torch as d2l\n",
        "import torch\n",
        "from torch import nn"
      ],
      "id": "dec64d9e",
      "execution_count": null,
      "outputs": []
    },
    {
      "cell_type": "markdown",
      "metadata": {},
      "source": [
        "## Generate Some \"Real\" Data\n",
        "\n",
        "Since this is going to be the world's lamest example, we simply generate data drawn from a Gaussian.\n"
      ],
      "id": "23194776"
    },
    {
      "cell_type": "code",
      "metadata": {},
      "source": [
        "X = d2l.normal(0.0, 1, (1000, 2))\n",
        "A = d2l.tensor([[1, 2], [-0.1, 0.5]])\n",
        "b = d2l.tensor([1, 2])\n",
        "data = d2l.matmul(X, A) + b"
      ],
      "id": "da193e8d",
      "execution_count": null,
      "outputs": []
    },
    {
      "cell_type": "markdown",
      "metadata": {},
      "source": [
        "Let's see what we got. This should be a Gaussian shifted in some rather arbitrary way with mean $b$ and covariance matrix $A^TA$.\n"
      ],
      "id": "bc7ec20f"
    },
    {
      "cell_type": "code",
      "metadata": {},
      "source": [
        "d2l.set_figsize()\n",
        "d2l.plt.scatter(d2l.numpy(data[:100, 0]), d2l.numpy(data[:100, 1]));\n",
        "print(f'The covariance matrix is\\n{d2l.matmul(A.T, A)}')"
      ],
      "id": "bc4d6244",
      "execution_count": null,
      "outputs": []
    },
    {
      "cell_type": "code",
      "metadata": {},
      "source": [
        "batch_size = 8\n",
        "data_iter = d2l.load_array((data,), batch_size)"
      ],
      "id": "9a35887e",
      "execution_count": null,
      "outputs": []
    },
    {
      "cell_type": "markdown",
      "metadata": {},
      "source": [
        "## Generator\n",
        "\n",
        "Our generator network will be the simplest network possible - a single layer linear model. This is since we will be driving that linear network with a Gaussian data generator. Hence, it literally only needs to learn the parameters to fake things perfectly.\n"
      ],
      "id": "e31b65f2"
    },
    {
      "cell_type": "code",
      "metadata": {},
      "source": [
        "net_G = nn.Sequential(nn.Linear(2, 2))"
      ],
      "id": "2a4837f3",
      "execution_count": null,
      "outputs": []
    },
    {
      "cell_type": "markdown",
      "metadata": {},
      "source": [
        "### Discriminator\n",
        "\n",
        "For the discriminator we will be a bit more discriminating: we will use an MLP with 3 layers to make things a bit more interesting.\n"
      ],
      "id": "cb81470f"
    },
    {
      "cell_type": "code",
      "metadata": {},
      "source": [
        "net_D = nn.Sequential(\n",
        "    nn.Linear(2, 5), nn.Tanh(),\n",
        "    nn.Linear(5, 3), nn.Tanh(),\n",
        "    nn.Linear(3, 1))"
      ],
      "id": "1397b83e",
      "execution_count": null,
      "outputs": []
    },
    {
      "cell_type": "markdown",
      "metadata": {},
      "source": [
        "## Training\n",
        "\n",
        "First we define a function to update the discriminator.\n"
      ],
      "id": "42d9e8dd"
    },
    {
      "cell_type": "code",
      "metadata": {},
      "source": [
        "def update_D(X, Z, net_D, net_G, loss, trainer_D):\n",
        "    \"\"\"Update discriminator.\"\"\"\n",
        "    batch_size = X.shape[0]\n",
        "    ones = torch.ones((batch_size,), device=X.device)\n",
        "    zeros = torch.zeros((batch_size,), device=X.device)\n",
        "    trainer_D.zero_grad()\n",
        "    real_Y = net_D(X)\n",
        "    fake_X = net_G(Z)\n",
        "    # Do not need to compute gradient for `net_G`, detach it from\n",
        "    # computing gradients.\n",
        "    fake_Y = net_D(fake_X.detach())\n",
        "    loss_D = (loss(real_Y, ones.reshape(real_Y.shape)) +\n",
        "              loss(fake_Y, zeros.reshape(fake_Y.shape))) / 2\n",
        "    loss_D.backward()\n",
        "    trainer_D.step()\n",
        "    return loss_D"
      ],
      "id": "80e5b133",
      "execution_count": null,
      "outputs": []
    },
    {
      "cell_type": "raw",
      "metadata": {},
      "source": [
        "---"
      ],
      "id": "1bd65931"
    },
    {
      "cell_type": "markdown",
      "metadata": {},
      "source": [
        "The generator is updated similarly. Here we reuse the cross-entropy loss but change the label of the fake data from $0$ to $1$.\n"
      ],
      "id": "440b66e4"
    },
    {
      "cell_type": "code",
      "metadata": {},
      "source": [
        "def update_G(Z, net_D, net_G, loss, trainer_G):\n",
        "    \"\"\"Update generator.\"\"\"\n",
        "    batch_size = Z.shape[0]\n",
        "    ones = torch.ones((batch_size,), device=Z.device)\n",
        "    trainer_G.zero_grad()\n",
        "    # We could reuse `fake_X` from `update_D` to save computation\n",
        "    fake_X = net_G(Z)\n",
        "    # Recomputing `fake_Y` is needed since `net_D` is changed\n",
        "    fake_Y = net_D(fake_X)\n",
        "    loss_G = loss(fake_Y, ones.reshape(fake_Y.shape))\n",
        "    loss_G.backward()\n",
        "    trainer_G.step()\n",
        "    return loss_G"
      ],
      "id": "74fb6ec3",
      "execution_count": null,
      "outputs": []
    },
    {
      "cell_type": "markdown",
      "metadata": {},
      "source": [
        "---\n",
        "\n",
        "Both the discriminator and the generator performs a binary logistic regression with the cross-entropy loss. We use Adam to smooth the training process. In each iteration, we first update the discriminator and then the generator. We visualize both losses and generated examples."
      ],
      "id": "028147c7"
    },
    {
      "cell_type": "code",
      "metadata": {},
      "source": [
        "def train(net_D, net_G, data_iter, num_epochs, lr_D, lr_G, latent_dim, data):\n",
        "    loss = nn.BCEWithLogitsLoss(reduction='sum')\n",
        "    for w in net_D.parameters():\n",
        "        nn.init.normal_(w, 0, 0.02)\n",
        "    for w in net_G.parameters():\n",
        "        nn.init.normal_(w, 0, 0.02)\n",
        "    trainer_D = torch.optim.Adam(net_D.parameters(), lr=lr_D)\n",
        "    trainer_G = torch.optim.Adam(net_G.parameters(), lr=lr_G)\n",
        "    animator = d2l.Animator(xlabel='epoch', ylabel='loss',\n",
        "                            xlim=[1, num_epochs], nrows=2, figsize=(5, 5),\n",
        "                            legend=['discriminator', 'generator'])\n",
        "    animator.fig.subplots_adjust(hspace=0.3)\n",
        "    for epoch in range(num_epochs):\n",
        "        # Train one epoch\n",
        "        timer = d2l.Timer()\n",
        "        metric = d2l.Accumulator(3)  # loss_D, loss_G, num_examples\n",
        "        for (X,) in data_iter:\n",
        "            batch_size = X.shape[0]\n",
        "            Z = torch.normal(0, 1, size=(batch_size, latent_dim))\n",
        "            metric.add(update_D(X, Z, net_D, net_G, loss, trainer_D),\n",
        "                       update_G(Z, net_D, net_G, loss, trainer_G),\n",
        "                       batch_size)\n",
        "        # Visualize generated examples\n",
        "        Z = torch.normal(0, 1, size=(100, latent_dim))\n",
        "        fake_X = net_G(Z).detach().numpy()\n",
        "        animator.axes[1].cla()\n",
        "        animator.axes[1].scatter(data[:, 0], data[:, 1])\n",
        "        animator.axes[1].scatter(fake_X[:, 0], fake_X[:, 1])\n",
        "        animator.axes[1].legend(['real', 'generated'])\n",
        "        # Show the losses\n",
        "        loss_D, loss_G = metric[0]/metric[2], metric[1]/metric[2]\n",
        "        animator.add(epoch + 1, (loss_D, loss_G))\n",
        "    print(f'loss_D {loss_D:.3f}, loss_G {loss_G:.3f}, '\n",
        "          f'{metric[2] / timer.stop():.1f} examples/sec')"
      ],
      "id": "1ac5b8b9",
      "execution_count": null,
      "outputs": []
    },
    {
      "cell_type": "markdown",
      "metadata": {},
      "source": [
        "Now we specify the hyperparameters to fit the Gaussian distribution.\n"
      ],
      "id": "febdefbe"
    },
    {
      "cell_type": "code",
      "metadata": {},
      "source": [
        "lr_D, lr_G, latent_dim, num_epochs = 0.05, 0.005, 2, 20\n",
        "# train(net_D, net_G, data_iter, num_epochs, lr_D, lr_G,\n",
        "#       latent_dim, d2l.numpy(data[:100]))"
      ],
      "id": "5a26bf30",
      "execution_count": null,
      "outputs": []
    },
    {
      "cell_type": "raw",
      "metadata": {},
      "source": [
        "## Summary\n",
        "\n",
        "* Generative adversarial networks (GANs) composes of two deep networks, the generator and the discriminator.\n",
        "* The generator generates the image as much closer to the true image as possible to fool the discriminator, via maximizing the cross-entropy loss, *i.e.*, $\\max \\log(D(\\mathbf{x'}))$.\n",
        "* The discriminator tries to distinguish the generated images from the true images, via minimizing the cross-entropy loss, *i.e.*, $\\min - y \\log D(\\mathbf{x}) - (1-y)\\log(1-D(\\mathbf{x}))$.\n",
        "\n",
        "## Exercises\n",
        "\n",
        "* Does an equilibrium exist where the generator wins, *i.e.* the discriminator ends up unable to distinguish the two distributions on finite samples?\n",
        "\n",
        "# Deep Convolutional Generative Adversarial Networks\n",
        "\n",
        "- **Introduction to GANs:**\n",
        "  - Basic idea: Transform samples from simple distributions (uniform, normal) to match dataset distributions.\n",
        "  - Previous example: Matching a 2D Gaussian distribution.\n",
        "\n",
        "- **Photorealistic Image Generation:**\n",
        "  - Use GANs to generate photorealistic images.\n",
        "  - Based on deep convolutional GANs (DCGAN) from Radford et al. (2015).\n",
        "\n",
        "---"
      ],
      "id": "3cfd98f3"
    },
    {
      "cell_type": "markdown",
      "metadata": {},
      "source": [
        "- **DCGAN Architecture:**\n",
        "  - Leverages convolutional architecture.\n",
        "  - Successful for discriminative computer vision tasks.\n",
        "  - Adapted for generative tasks to produce realistic images.\n"
      ],
      "id": "c968b9d9"
    },
    {
      "cell_type": "code",
      "metadata": {},
      "source": [
        "from d2l import torch as d2l\n",
        "import torch\n",
        "import torchvision\n",
        "from torch import nn\n",
        "import warnings"
      ],
      "id": "a52fa1c8",
      "execution_count": null,
      "outputs": []
    },
    {
      "cell_type": "markdown",
      "metadata": {},
      "source": [
        "## The Pokemon Dataset\n",
        "\n",
        "The dataset we will use is a collection of Pokemon sprites obtained from [pokemondb](https://pokemondb.net/sprites). First download, extract and load this dataset.\n"
      ],
      "id": "211bd2d3"
    },
    {
      "cell_type": "code",
      "metadata": {},
      "source": [
        "# d2l.DATA_HUB['pokemon'] = (d2l.DATA_URL + 'pokemon.zip',\n",
        "#                            'c065c0e2593b8b161a2d7873e42418bf6a21106c')\n",
        "\n",
        "# data_dir = d2l.download_extract('pokemon')\n",
        "# print(data_dir)\n",
        "# pokemon = torchvision.datasets.ImageFolder(data_dir)\n",
        "pokemon = torchvision.datasets.EMNIST(root='./', split='digits', download=True)"
      ],
      "id": "53e36b02",
      "execution_count": null,
      "outputs": []
    },
    {
      "cell_type": "markdown",
      "metadata": {},
      "source": [
        "We resize each image into $64\\times 64$. The `ToTensor` transformation will project the pixel value into $[0, 1]$, while our generator will use the tanh function to obtain outputs in $[-1, 1]$. Therefore we normalize the data with $0.5$ mean and $0.5$ standard deviation to match the value range."
      ],
      "id": "d60dbebf"
    },
    {
      "cell_type": "markdown",
      "metadata": {},
      "source": [
        "---\n"
      ],
      "id": "5828316c"
    },
    {
      "cell_type": "code",
      "metadata": {},
      "source": [
        "batch_size = 256\n",
        "transformer = torchvision.transforms.Compose([\n",
        "    torchvision.transforms.Resize((64, 64)),\n",
        "    torchvision.transforms.ToTensor(),\n",
        "    torchvision.transforms.Normalize(0.5, 0.5)\n",
        "])\n",
        "pokemon.transform = transformer\n",
        "data_iter = torch.utils.data.DataLoader(\n",
        "    pokemon, batch_size=batch_size,\n",
        "    shuffle=True, num_workers=1)"
      ],
      "id": "95fd5ae3",
      "execution_count": null,
      "outputs": []
    },
    {
      "cell_type": "code",
      "metadata": {},
      "source": [
        "warnings.filterwarnings('ignore')\n",
        "d2l.set_figsize((4, 4))\n",
        "for X, y in data_iter:\n",
        "    imgs = X[:20,:,:,:].permute(0, 2, 3, 1)/2+0.5\n",
        "    d2l.show_images(imgs, num_rows=4, num_cols=5)\n",
        "    break"
      ],
      "id": "99f086bf",
      "execution_count": null,
      "outputs": []
    },
    {
      "cell_type": "markdown",
      "metadata": {},
      "source": [
        "## The Generator\n",
        "\n",
        "The generator needs to map the noise variable $\\mathbf z\\in\\mathbb R^d$, a length-$d$ vector, to a RGB image with width and height to be $64\\times 64$ . In :numref:`sec_fcn` we introduced the fully convolutional network that uses transposed convolution layer (refer to :numref:`sec_transposed_conv`) to enlarge input size. The basic block of the generator contains a transposed convolution layer followed by the batch normalization and ReLU activation.\n"
      ],
      "id": "56d9ce9c"
    },
    {
      "cell_type": "code",
      "metadata": {},
      "source": [
        "class G_block(nn.Module):\n",
        "    def __init__(self, out_channels, in_channels=3, kernel_size=4, strides=2,\n",
        "                 padding=1, **kwargs):\n",
        "        super(G_block, self).__init__(**kwargs)\n",
        "        self.conv2d_trans = nn.ConvTranspose2d(in_channels, out_channels,\n",
        "                                kernel_size, strides, padding, bias=False)\n",
        "        self.batch_norm = nn.BatchNorm2d(out_channels)\n",
        "        self.activation = nn.ReLU()\n",
        "\n",
        "    def forward(self, X):\n",
        "        return self.activation(self.batch_norm(self.conv2d_trans(X)))"
      ],
      "id": "b9e01339",
      "execution_count": null,
      "outputs": []
    },
    {
      "cell_type": "raw",
      "metadata": {},
      "source": [
        "---"
      ],
      "id": "38213edc"
    },
    {
      "cell_type": "markdown",
      "metadata": {},
      "source": [
        "In default, the transposed convolution layer uses a $k_h = k_w = 4$ kernel, a $s_h = s_w = 2$ strides, and a $p_h = p_w = 1$ padding. With a input shape of $n_h^{'} \\times n_w^{'} = 16 \\times 16$, the generator block will double input's width and height.\n",
        "\n",
        "\n",
        "$$\n",
        "\\begin{aligned}\n",
        "n_h^{'} \\times n_w^{'} &= [(n_h k_h - (n_h-1)(k_h-s_h)- 2p_h] \\times [(n_w k_w - (n_w-1)(k_w-s_w)- 2p_w]\\\\\n",
        "  &= [(k_h + s_h (n_h-1)- 2p_h] \\times [(k_w + s_w (n_w-1)- 2p_w]\\\\\n",
        "  &= [(4 + 2 \\times (16-1)- 2 \\times 1] \\times [(4 + 2 \\times (16-1)- 2 \\times 1]\\\\\n",
        "  &= 32 \\times 32 .\\\\\n",
        "\\end{aligned}\n",
        "$$\n"
      ],
      "id": "70020331"
    },
    {
      "cell_type": "code",
      "metadata": {},
      "source": [
        "x = torch.zeros((2, 3, 16, 16))\n",
        "g_blk = G_block(20)\n",
        "g_blk(x).shape"
      ],
      "id": "7be2d3ab",
      "execution_count": null,
      "outputs": []
    },
    {
      "cell_type": "markdown",
      "metadata": {},
      "source": [
        "---\n",
        "\n",
        "If changing the transposed convolution layer to a $4\\times 4$ kernel, $1\\times 1$ strides and zero padding. With a input size of $1 \\times 1$, the output will have its width and height increased by 3 respectively.\n"
      ],
      "id": "fc77ffb8"
    },
    {
      "cell_type": "code",
      "metadata": {},
      "source": [
        "x = torch.zeros((2, 3, 1, 1))\n",
        "g_blk = G_block(20, strides=1, padding=0)\n",
        "g_blk(x).shape"
      ],
      "id": "f3590595",
      "execution_count": null,
      "outputs": []
    },
    {
      "cell_type": "raw",
      "metadata": {},
      "source": [
        "The generator consists of four basic blocks that increase input's both width and height from 1 to 32. At the same time, it first projects the latent variable into $64\\times 8$ channels, and then halve the channels each time. At last, a transposed convolution layer is used to generate the output. It further doubles the width and height to match the desired $64\\times 64$ shape, and reduces the channel size to $3$. The tanh activation function is applied to project output values into the $(-1, 1)$ range.\n",
        "\n",
        "---"
      ],
      "id": "031ac7ff"
    },
    {
      "cell_type": "code",
      "metadata": {},
      "source": [
        "n_G = 64\n",
        "net_G = nn.Sequential(\n",
        "    G_block(in_channels=100, out_channels=n_G*8,\n",
        "            strides=1, padding=0),                  # Output: (64 * 8, 4, 4)\n",
        "    G_block(in_channels=n_G*8, out_channels=n_G*4), # Output: (64 * 4, 8, 8)\n",
        "    G_block(in_channels=n_G*4, out_channels=n_G*2), # Output: (64 * 2, 16, 16)\n",
        "    G_block(in_channels=n_G*2, out_channels=n_G),   # Output: (64, 32, 32)\n",
        "    nn.ConvTranspose2d(in_channels=n_G, out_channels=3,\n",
        "                       kernel_size=4, stride=2, padding=1, bias=False),\n",
        "    nn.Tanh())  # Output: (3, 64, 64)"
      ],
      "id": "87ad90c1",
      "execution_count": null,
      "outputs": []
    },
    {
      "cell_type": "markdown",
      "metadata": {},
      "source": [
        "Generate a 100 dimensional latent variable to verify the generator's output shape.\n"
      ],
      "id": "24ef2f81"
    },
    {
      "cell_type": "code",
      "metadata": {},
      "source": [
        "x = torch.zeros((1, 100, 1, 1))\n",
        "net_G(x).shape"
      ],
      "id": "ae838fbb",
      "execution_count": null,
      "outputs": []
    },
    {
      "cell_type": "markdown",
      "metadata": {},
      "source": [
        "## Discriminator\n",
        "\n",
        "The discriminator is a normal convolutional network network except that it uses a leaky ReLU as its activation function. Given $\\alpha \\in[0, 1]$, its definition is\n",
        "\n",
        "$$\\textrm{leaky ReLU}(x) = \\begin{cases}x & \\text{if}\\ x > 0\\\\ \\alpha x &\\text{otherwise}\\end{cases}.$$\n",
        "\n",
        "As it can be seen, it is normal ReLU if $\\alpha=0$, and an identity function if $\\alpha=1$. For $\\alpha \\in (0, 1)$, leaky ReLU is a nonlinear function that give a non-zero output for a negative input. It aims to fix the \"dying ReLU\" problem that a neuron might always output a negative value and therefore cannot make any progress since the gradient of ReLU is 0.\n"
      ],
      "id": "5ef81be6"
    },
    {
      "cell_type": "code",
      "metadata": {},
      "source": [
        "alphas = [0, .2, .4, .6, .8, 1]\n",
        "x = d2l.arange(-2, 1, 0.1)\n",
        "Y = [d2l.numpy(nn.LeakyReLU(alpha)(x)) for alpha in alphas]\n",
        "d2l.plot(d2l.numpy(x), Y, 'x', 'y', alphas)"
      ],
      "id": "15166340",
      "execution_count": null,
      "outputs": []
    },
    {
      "cell_type": "markdown",
      "metadata": {},
      "source": [
        "---\n",
        "\n",
        "The basic block of the discriminator is a convolution layer followed by a batch normalization layer and a leaky ReLU activation. The hyperparameters of the convolution layer are similar to the transpose convolution layer in the generator block.\n"
      ],
      "id": "72b0c739"
    },
    {
      "cell_type": "code",
      "metadata": {},
      "source": [
        "class D_block(nn.Module):\n",
        "    def __init__(self, out_channels, in_channels=3, kernel_size=4, strides=2,\n",
        "                padding=1, alpha=0.2, **kwargs):\n",
        "        super(D_block, self).__init__(**kwargs)\n",
        "        self.conv2d = nn.Conv2d(in_channels, out_channels, kernel_size,\n",
        "                                strides, padding, bias=False)\n",
        "        self.batch_norm = nn.BatchNorm2d(out_channels)\n",
        "        self.activation = nn.LeakyReLU(alpha, inplace=True)\n",
        "\n",
        "    def forward(self, X):\n",
        "        return self.activation(self.batch_norm(self.conv2d(X)))"
      ],
      "id": "db2e62f0",
      "execution_count": null,
      "outputs": []
    },
    {
      "cell_type": "raw",
      "metadata": {},
      "source": [
        "---"
      ],
      "id": "a0246cad"
    },
    {
      "cell_type": "markdown",
      "metadata": {},
      "source": [
        "A basic block with default settings will halve the width and height of the inputs, as we demonstrated in :numref:`sec_padding`. For example, given a input shape $n_h = n_w = 16$, with a kernel shape $k_h = k_w = 4$, a stride shape $s_h = s_w = 2$, and a padding shape $p_h = p_w = 1$, the output shape will be:\n",
        "\n",
        "\n",
        "$$\n",
        "\\begin{aligned}\n",
        "n_h^{'} \\times n_w^{'} &= \\lfloor(n_h-k_h+2p_h+s_h)/s_h\\rfloor \\times \\lfloor(n_w-k_w+2p_w+s_w)/s_w\\rfloor\\\\\n",
        "  &= \\lfloor(16-4+2\\times 1+2)/2\\rfloor \\times \\lfloor(16-4+2\\times 1+2)/2\\rfloor\\\\\n",
        "  &= 8 \\times 8 .\\\\\n",
        "\\end{aligned}\n",
        "$$\n"
      ],
      "id": "373bda15"
    },
    {
      "cell_type": "code",
      "metadata": {},
      "source": [
        "x = torch.zeros((2, 3, 16, 16))\n",
        "d_blk = D_block(20)\n",
        "d_blk(x).shape"
      ],
      "id": "79df7c69",
      "execution_count": null,
      "outputs": []
    },
    {
      "cell_type": "code",
      "metadata": {},
      "source": [
        "n_D = 64\n",
        "net_D = nn.Sequential(\n",
        "    D_block(n_D),  # Output: (64, 32, 32)\n",
        "    D_block(in_channels=n_D, out_channels=n_D*2),  # Output: (64 * 2, 16, 16)\n",
        "    D_block(in_channels=n_D*2, out_channels=n_D*4),  # Output: (64 * 4, 8, 8)\n",
        "    D_block(in_channels=n_D*4, out_channels=n_D*8),  # Output: (64 * 8, 4, 4)\n",
        "    nn.Conv2d(in_channels=n_D*8, out_channels=1,\n",
        "              kernel_size=4, bias=False))  # Output: (1, 1, 1)"
      ],
      "id": "e3d654fe",
      "execution_count": null,
      "outputs": []
    },
    {
      "cell_type": "markdown",
      "metadata": {},
      "source": [
        "It uses a convolution layer with output channel $1$ as the last layer to obtain a single prediction value.\n"
      ],
      "id": "a3f559a9"
    },
    {
      "cell_type": "code",
      "metadata": {},
      "source": [
        "x = torch.zeros((1, 3, 64, 64))\n",
        "net_D(x).shape"
      ],
      "id": "1f777148",
      "execution_count": null,
      "outputs": []
    },
    {
      "cell_type": "markdown",
      "metadata": {},
      "source": [
        "## Training\n",
        "\n",
        "Compared to the basic GAN in :numref:`sec_basic_gan`, we use the same learning rate for both generator and discriminator since they are similar to each other. In addition, we change $\\beta_1$ in Adam (:numref:`sec_adam`) from $0.9$ to $0.5$. It decreases the smoothness of the momentum, the exponentially weighted moving average of past gradients, to take care of the rapid changing gradients because the generator and the discriminator fight with each other. Besides, the random generated noise `Z`, is a 4-D tensor and we are using GPU to accelerate the computation.\n"
      ],
      "id": "e04a182b"
    },
    {
      "cell_type": "code",
      "metadata": {},
      "source": [
        "def train(net_D, net_G, data_iter, num_epochs, lr, latent_dim,\n",
        "          device=d2l.try_gpu()):\n",
        "    loss = nn.BCEWithLogitsLoss(reduction='sum')\n",
        "    for w in net_D.parameters():\n",
        "        nn.init.normal_(w, 0, 0.02)\n",
        "    for w in net_G.parameters():\n",
        "        nn.init.normal_(w, 0, 0.02)\n",
        "    net_D, net_G = net_D.to(device), net_G.to(device)\n",
        "    trainer_hp = {'lr': lr, 'betas': [0.5,0.999]}\n",
        "    trainer_D = torch.optim.Adam(net_D.parameters(), **trainer_hp)\n",
        "    trainer_G = torch.optim.Adam(net_G.parameters(), **trainer_hp)\n",
        "    animator = d2l.Animator(xlabel='epoch', ylabel='loss',\n",
        "                            xlim=[1, num_epochs], nrows=2, figsize=(5, 5),\n",
        "                            legend=['discriminator', 'generator'])\n",
        "    animator.fig.subplots_adjust(hspace=0.3)\n",
        "    for epoch in range(1, num_epochs + 1):\n",
        "        # Train one epoch\n",
        "        timer = d2l.Timer()\n",
        "        metric = d2l.Accumulator(3)  # loss_D, loss_G, num_examples\n",
        "        for X, _ in data_iter:\n",
        "            batch_size = X.shape[0]\n",
        "            Z = torch.normal(0, 1, size=(batch_size, latent_dim, 1, 1))\n",
        "            X, Z = X.to(device), Z.to(device)\n",
        "            metric.add(d2l.update_D(X, Z, net_D, net_G, loss, trainer_D),\n",
        "                       d2l.update_G(Z, net_D, net_G, loss, trainer_G),\n",
        "                       batch_size)\n",
        "        # Show generated examples\n",
        "        Z = torch.normal(0, 1, size=(21, latent_dim, 1, 1), device=device)\n",
        "        # Normalize the synthetic data to N(0, 1)\n",
        "        fake_x = net_G(Z).permute(0, 2, 3, 1) / 2 + 0.5\n",
        "        imgs = torch.cat(\n",
        "            [torch.cat([\n",
        "                fake_x[i * 7 + j].cpu().detach() for j in range(7)], dim=1)\n",
        "             for i in range(len(fake_x)//7)], dim=0)\n",
        "        animator.axes[1].cla()\n",
        "        animator.axes[1].imshow(imgs)\n",
        "        # Show the losses\n",
        "        loss_D, loss_G = metric[0] / metric[2], metric[1] / metric[2]\n",
        "        animator.add(epoch, (loss_D, loss_G))\n",
        "    print(f'loss_D {loss_D:.3f}, loss_G {loss_G:.3f}, '\n",
        "          f'{metric[2] / timer.stop():.1f} examples/sec on {str(device)}')"
      ],
      "id": "735b6aec",
      "execution_count": null,
      "outputs": []
    },
    {
      "cell_type": "markdown",
      "metadata": {},
      "source": [
        "---\n",
        "\n",
        "We train the model with a small number of epochs just for demonstration.\n",
        "For better performance,\n",
        "the variable `num_epochs` can be set to a larger number.\n"
      ],
      "id": "c57b352b"
    },
    {
      "cell_type": "code",
      "metadata": {},
      "source": [
        "latent_dim, lr, num_epochs = 100, 0.005, 20\n",
        "# train(net_D, net_G, data_iter, num_epochs, lr, latent_dim)"
      ],
      "id": "eaf20bda",
      "execution_count": null,
      "outputs": []
    },
    {
      "cell_type": "raw",
      "metadata": {},
      "source": [
        "## Summary\n",
        "\n",
        "* DCGAN architecture has four convolutional layers for the Discriminator and four \"fractionally-strided\" convolutional layers for the Generator.\n",
        "* The Discriminator is a 4-layer strided convolutions with batch normalization (except its input layer) and leaky ReLU activations.\n",
        "* Leaky ReLU is a nonlinear function that give a non-zero output for a negative input. It aims to fix the “dying ReLU” problem and helps the gradients flow easier through the architecture.\n",
        "\n",
        "\n",
        "## Exercises\n",
        "\n",
        "1. What will happen if we use standard ReLU activation rather than leaky ReLU?\n",
        "1. Apply DCGAN on Fashion-MNIST and see which category works well and which does not.\n",
        "\n",
        "# Application examples\n",
        "\n",
        "## Example 1: Leveraging Generative Adversarial Networks to Create Realistic Scanning Transmission Electron Microscopy Images\n",
        "\n",
        "**Authors:** Abid Khan, Chia-Hao Lee, Pinshane Y. Huang, Bryan K. Clark  \n",
        "**Published in:** npj Computational Materials (2023)  \n",
        "**DOI:** [10.1038/s41524-023-01042-3](https://doi.org/10.1038/s41524-023-01042-3)\n",
        "\n",
        "![Generative Adversarial Networks](../img2/huang1.png){ width=80% background=\"white\"}\n",
        "\n",
        "## Introduction\n",
        "\n",
        "- Machine learning (ML) in electron microscopy:\n",
        "  - Atom localization\n",
        "  - Defect identification\n",
        "  - Image denoising\n",
        "- Challenge: High-quality training data with ground truth for supervised learning.\n",
        "- Solution: Use CycleGANs to bridge the gap between simulated and experimental STEM images.\n",
        "![Generative Adversarial Networks](../img2/huang4.png){ width=80% background=\"white\"}\n",
        "\n",
        "## Generating Realistic Images with CycleGANs\n",
        "\n",
        "- CycleGANs are used for image-to-image translation.\n",
        "- Training involves both experimental and simulated images.\n",
        "- CycleGANs produce images that match experimental data in terms of noise, distortions, and other artifacts.\n",
        "- Results show significant improvement in realism compared to unoptimized simulated images.\n",
        "\n",
        "![CycleGAN](../img2/huang2.png){ width=80% background=\"white\"}\n",
        "\n",
        "## variations within experimental STEM data\n",
        "\n",
        "- Experimental STEM images acquired on Day A (a–c) and B (e–g) showing variations within and between days due to sample contamination and microscope\n",
        "instabilities. \n",
        "- d, h Power spectra obtained with FFT of a and e demonstrate the variation of image resolution, from 96 pm to 110 pm, determined by the highest transferred spatial frequency marked with white circles. \n",
        "- The power spectra are displayed in log scale for visibility. Scale bars are equal to 1 nm.\n",
        "\n",
        "![Example of variations within experimental STEM data sets taken on two different days, Day A and Day B. ](../img2/huang5.png){ width=80% background=\"white\"}\n",
        "\n",
        "## CycleGAN Architecture and Optimization\n",
        "\n",
        "- CycleGAN translates images between two domains: \n",
        "  (1) the experiment\n",
        "domain X and \n",
        "  (2) the simulation domain Y, and has two main components: generators and discriminators. \n",
        "-  generator G converts input\n",
        "experimental images x to simulation-like images G(x), and the generator F converts input simulated images y to experiment-like images F(y).\n",
        "- generated images (F(y) and G(x)) are then fed into four discriminators (Dx,img, Dx,FFT, Dy,img, Dy,FFT) along with the raw images (x and y) to\n",
        "evaluate the quality of generated images. \n",
        "\n",
        "\n",
        "\n",
        "![Schematic of the major components in a CycleGAN. ](../img2/huang2.png){ width=80% background=\"white\"}\n",
        "\n",
        "\n",
        "---"
      ],
      "id": "c734d3b2"
    },
    {
      "cell_type": "markdown",
      "metadata": {},
      "source": [
        "- Both  input images and their FFTs are examined by the discriminators to calculate the adversarial\n",
        "losses (Ladv), which are used to optimize both generators F and G respectively. \n",
        "- By passing the raw images (x and y) with combinations of both generators, identity images (F(x) and G(y)) and cycled images (F(G(x)) and G(F(y))) are also generated. \n",
        "- corresponding identity loss Lid and cycle consistency loss Lcyc are added to ensure the identity and cycle consistency mapping of the generators.\n",
        "\n",
        "![Schematic of the major components in a CycleGAN. ](../img2/huang2.png){ width=80% background=\"white\"}\n",
        "\n",
        "## Evaluation Metrics\n",
        "\n",
        "- Quantitative evaluation using:\n",
        "  - Fréchet Inception Distance (FID)\n",
        "  - Kullback–Leibler (KL) divergence\n",
        "- Results:\n",
        "  - CycleGAN-processed images have the lowest FID scores and KL divergence, indicating high similarity to experimental images.\n",
        "\n",
        "## Fréchet Inception Distance (FID)\n",
        "\n",
        "- **Purpose**: Measure similarity between generated images and real images.\n",
        "- **Calculation**:\n",
        "  - Preprocess the images. Ensure the two images are compatible using basic processing. \n",
        "  - **Extract feature representations**. Pass the real and generated images through the Inception-v3 model. This transforms the raw pixels into numerical vectors to represent aspects of the images, such as lines, edges and higher-order shapes.\n",
        "  - **Calculate statistics**. Statistical analysis is performed to determine the mean and covariance matrix of the features in each image.\n",
        "  - Treats images as multivariate Gaussian distributions\n",
        "  - $d_{F}(\\mathcal N(\\mu, \\Sigma), \\mathcal N(\\mu', \\Sigma'))^2 = \\lVert \\mu - \\mu' \\rVert^2_2 + \\operatorname{tr}\\left(\\Sigma + \\Sigma' -2\\left(\\Sigma \\Sigma'  \\right)^\\frac{1}{2} \\right)$\n",
        "- **Interpretation**:\n",
        "  - Lower FID indicates higher similarity and better quality of generated images.\n",
        "\n",
        "## Quantitative measurements of data set quality using FID and KL\n",
        "\n",
        "- Images are generated from (a) experiments, (b) simulation without noise, (c) simulation with manually optimized noise, and (d)\n",
        "CycleGAN. \n",
        "- FID score measures the dissimilarity between image data sets, so a smaller FID score implies higher similarity between image\n",
        "data sets. \n",
        "- e–h Histograms of normalized pixel intensity are calculated for each image data set. Each\n",
        "histogram is normalized so that the probability distribution sums to unity. \n",
        "\n",
        "![Quantitative measurements of data set quality using FID and KL](../img2/huang3.png){ width=80% background=\"white\"}\n",
        "\n",
        "## Quantitative measurements of data set quality using FID and KL 2\n",
        "\n",
        "- KL divergence DKL(P∣∣Q) of each data set with the experimental histogram are labeled as DKL at the top right corner of each histogram, with the lowest non-zero value marked in red. \n",
        "- both the FID score and KL divergence of intensity histograms are calculated for the entire data set with respect to the experimental data set, where each\n",
        "data set contains roughly 1700 image patches with 256 × 256 pixels. \n",
        "- CycleGAN generated image set exhibits the best FID score and lowest KL divergence, indicating it is the best match for experimental data.\n",
        "\n",
        "![Quantitative measurements of data set quality using FID and KL](../img2/huang3.png){ width=80% background=\"white\"}\n",
        "\n",
        "## Defect Identification with CycleGAN and FCN\n",
        "\n",
        "- Workflow:\n",
        "  1. Acquire experimental STEM images.\n",
        "  2. Simulate STEM images with known defects.\n",
        "  3. Train CycleGAN with both experimental and simulated images.\n",
        "\n",
        "\n",
        "![Schematic of the major components in a CycleGAN. ](../img2/huang4.png){ width=80% background=\"white\"}\n",
        "\n",
        "## Defect Identification with CycleGAN and FCN\n",
        "\n",
        "- Workflow:\n",
        "  4. Generate realistic images using CycleGAN.\n",
        "  5. Train Fully Convolutional Network (FCN) on CycleGAN-processed images.\n",
        "  6. Use FCN to identify defects in experimental images.\n",
        "- Results: High precision and recall in defect identification with minimal human intervention.\n",
        "\n",
        "![The CycleGAN-processed images preserve the defect types and positions from the input simulated images. ](../img2/huang6.png){ width=80% background=\"white\"}\n",
        "\n",
        "## Conclusion\n",
        "\n",
        "- CycleGANs effectively bridge the gap between simulated and experimental STEM images.\n",
        "- FCNs trained on CycleGAN-processed images achieve high accuracy in defect identification.\n",
        "- Potential for real-time, automated microscopy data processing.\n",
        "\n",
        "## Example 2: Generation of Highly Realistic Microstructural Images of Alloys from Limited Data with a Style-Based Generative Adversarial Network\n",
        "\n",
        "**Authors:** Guillaume Lambard, Kazuhiko Yamazaki, Masahiko Demura  \n",
        "**Published in:** Scientific Reports (2023)  \n",
        "**DOI:** [10.1038/s41598-023-27574-8](https://doi.org/10.1038/s41598-023-27574-8)\n",
        "\n",
        "## Introduction\n",
        "\n",
        "- **Microstructural Characterization**: Essential for understanding material properties.\n",
        "- **Challenges**: Limited availability of high-quality SEM images.\n",
        "- **Solution**: Use StyleGAN2 with ADA to generate synthetic SEM images from a small dataset.\n",
        "\n",
        "## StyleGAN2 with ADA\n",
        "\n",
        "- **StyleGAN2 Architecture**:\n",
        "  - Adaptive Discriminator Augmentation (ADA)\n",
        "  - Effective in low data regimes\n",
        "- **Training**:\n",
        "  - Dataset: 3000 SEM images of ferrite-martensite dual-phase steel\n",
        "  - Image size: 512x512 pixels\n",
        "  - Augmentations: Pixel blitting, geometrical transformations\n",
        "\n",
        "## StyleGAN2 with ADA\n",
        "\n",
        "- **Problem**: GANs require large datasets to avoid discriminator overfitting.\n",
        "- **Solution**: Adaptive Discriminator Augmentation (ADA) to stabilize training with limited data.\n",
        "- **Key Insight**: ADA prevents overfitting without changing loss functions or network architectures.\n",
        "\n",
        "## Adaptive Discriminator Augmentation (ADA)\n",
        "\n",
        "- **Objective**: Apply augmentations to prevent discriminator overfitting.\n",
        "- **Mechanism**:\n",
        "  - Stochastic augmentation of discriminator inputs.\n",
        "  - Augmentations include geometric and color transformations.\n",
        "  - Adaptive control based on overfitting heuristics.\n",
        "- **Benefits**:\n",
        "  - Effective even with few thousand training images.\n",
        "  - Maintains image quality and diversity.\n",
        "\n",
        "\n",
        "## Augmentations and Training\n",
        "\n",
        "- **Augmentation Strategies**:\n",
        "  - Pixel blitting and geometrical transformations improved FID by ~77%\n",
        "  - Other augmentations like color transformations and additive noise were less effective.\n",
        "- **Target Heuristic (rt)**:\n",
        "  - Optimal value: 0.5\n",
        "  - Balances between reducing overfitting and maintaining diversity\n",
        "\n",
        "## Results and Evaluation\n",
        "\n",
        "- **Evaluation Metrics**:\n",
        "  - Fréchet Inception Distance (FID)\n",
        "  - Recall Metric\n",
        "\n",
        "## Results and Evaluation2\n",
        "\n",
        "- **Results**:\n",
        "  - Best FID: 6.59 with 3000 images\n",
        "  - High-quality and diverse SEM images\n",
        "  - Successful interpolation between microstructures\n",
        "\n",
        "![Samples of non-curated SEM images generated with the StyleGAN2 with ADA](../img2/alloy5.png){ width=80% background=\"white\"}\n",
        "\n",
        "## Interpolation and Diversity\n",
        "\n",
        "- **Latent Space Interpolation**:\n",
        "  - Smooth transitions between different microstructures\n",
        "  - Demonstrates the potential for exploring new microstructural features\n",
        "\n",
        "![Selection of 4 non-curated generated SEM images obtained thanks to a spherical linear\n",
        "interpolation](../img2/alloy8.png){ width=80% background=\"white\"}\n",
        "\n",
        "## Interpolation and Diversity 2\n",
        "\n",
        "- **Generated Images**:\n",
        "  - High resemblance to real SEM images\n",
        "  - Captured both coarse and fine microstructural details\n"
      ],
      "id": "6b16692d"
    }
  ],
  "metadata": {
    "kernelspec": {
      "name": "python3",
      "language": "python",
      "display_name": "Python 3 (ipykernel)"
    }
  },
  "nbformat": 4,
  "nbformat_minor": 5
}